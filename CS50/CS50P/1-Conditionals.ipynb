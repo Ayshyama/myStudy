{
 "cells": [
  {
   "attachments": {},
   "cell_type": "markdown",
   "metadata": {},
   "source": [
    "## LECTURE 1\n",
    "## CONDITIONALS"
   ]
  },
  {
   "attachments": {},
   "cell_type": "markdown",
   "metadata": {},
   "source": [
    "# >\n",
    "# >=\n",
    "# <\n",
    "# <=\n",
    "# ==\n",
    "# !="
   ]
  },
  {
   "cell_type": "code",
   "execution_count": 3,
   "metadata": {},
   "outputs": [
    {
     "name": "stdout",
     "output_type": "stream",
     "text": [
      "x is less than y\n"
     ]
    }
   ],
   "source": [
    "x = int(input('Enter x: '))\n",
    "y = int(input('Enter y: '))\n",
    "\n",
    "if x < y:\n",
    "    print('x is less than y')\n",
    "if x > y:\n",
    "    print('x is greater than y')\n",
    "if x == y:\n",
    "    print('x is equal to y')\n"
   ]
  },
  {
   "cell_type": "code",
   "execution_count": 6,
   "metadata": {},
   "outputs": [
    {
     "name": "stdout",
     "output_type": "stream",
     "text": [
      "X is equal to Y\n"
     ]
    }
   ],
   "source": [
    "x = int(input('Enter X: '))\n",
    "y = int(input('Enter Y: '))\n",
    "\n",
    "if x < y:\n",
    "    print('X is less than Y')\n",
    "elif x > y:\n",
    "    print('X is greater than Y')\n",
    "else:                             # x == y\n",
    "    print('X is equal to Y')\n"
   ]
  },
  {
   "cell_type": "code",
   "execution_count": 8,
   "metadata": {},
   "outputs": [
    {
     "name": "stdout",
     "output_type": "stream",
     "text": [
      "x is not equal to y\n"
     ]
    }
   ],
   "source": [
    "x = int(input('Enter X: '))\n",
    "y = int(input('Enter Y: '))\n",
    "\n",
    "if x < y or x > y:\n",
    "    print('x is not equal to y')\n",
    "else:\n",
    "    print('x is equal to y')"
   ]
  },
  {
   "cell_type": "code",
   "execution_count": 10,
   "metadata": {},
   "outputs": [
    {
     "name": "stdout",
     "output_type": "stream",
     "text": [
      "x is equal to y\n"
     ]
    }
   ],
   "source": [
    "x = int(input('Enter X: '))\n",
    "y = int(input('Enter Y: '))\n",
    "\n",
    "if x != y:\n",
    "    print('x is not equal to y')\n",
    "else:\n",
    "    print('x is equal to y')"
   ]
  },
  {
   "cell_type": "code",
   "execution_count": 11,
   "metadata": {},
   "outputs": [
    {
     "name": "stdout",
     "output_type": "stream",
     "text": [
      "Grade: F\n"
     ]
    }
   ],
   "source": [
    "score = int(input('Score: '))\n",
    "\n",
    "if score >= 90 and score <= 100:\n",
    "    print('Grade: A')\n",
    "elif score >= 80 and score < 90:\n",
    "    print('Grade: B')\n",
    "elif score >= 70 and score < 80:\n",
    "    print('Grade: C')\n",
    "elif score >= 60 and score < 70:\n",
    "    print('Grade: D')\n",
    "else:\n",
    "    print('Grade: F')"
   ]
  },
  {
   "cell_type": "code",
   "execution_count": 16,
   "metadata": {},
   "outputs": [
    {
     "name": "stdout",
     "output_type": "stream",
     "text": [
      "Grade: A\n"
     ]
    }
   ],
   "source": [
    "score = int(input('Score: '))\n",
    "\n",
    "if 90 <= score <= 100:\n",
    "    print('Grade: A')\n",
    "elif 80 <= score < 90:\n",
    "    print('Grade: B')\n",
    "elif 70 <= score < 80:\n",
    "    print('Grade: C')\n",
    "elif 60 <= score < 70:\n",
    "    print('Grade: D')\n",
    "else:\n",
    "    print('Grade: F')"
   ]
  },
  {
   "cell_type": "code",
   "execution_count": 14,
   "metadata": {},
   "outputs": [
    {
     "name": "stdout",
     "output_type": "stream",
     "text": [
      "Grade: A\n"
     ]
    }
   ],
   "source": [
    "score = int(input('Score: '))\n",
    "\n",
    "if score >= 90:\n",
    "    print('Grade: A')\n",
    "elif score >= 80:\n",
    "    print('Grade: B')\n",
    "elif score >= 70:\n",
    "    print('Grade: C')\n",
    "elif score >= 60:\n",
    "    print('Grade: D')\n",
    "else:\n",
    "    print('Grade: F')"
   ]
  },
  {
   "attachments": {},
   "cell_type": "markdown",
   "metadata": {},
   "source": [
    "# Parity\n",
    "# +\n",
    "# -\n",
    "# * \n",
    "# /\n",
    "# %"
   ]
  },
  {
   "cell_type": "code",
   "execution_count": 18,
   "metadata": {},
   "outputs": [
    {
     "name": "stdout",
     "output_type": "stream",
     "text": [
      "Odd\n"
     ]
    }
   ],
   "source": [
    "x = int(input('Enter x: '))\n",
    "\n",
    "if x % 2 == 0:\n",
    "    print('Even')\n",
    "else:\n",
    "    print('Odd')"
   ]
  },
  {
   "cell_type": "code",
   "execution_count": 31,
   "metadata": {},
   "outputs": [
    {
     "name": "stdout",
     "output_type": "stream",
     "text": [
      "True\n",
      "False\n",
      "True\n"
     ]
    }
   ],
   "source": [
    "def main():\n",
    "    x = int(input('Enter x: '))\n",
    "    if is_even(x):\n",
    "        print('Even')\n",
    "    else:\n",
    "        print('Odd')\n",
    "\n",
    "# def is_even(n):\n",
    "#     if n % 2 == 0:\n",
    "#         return True\n",
    "#     else:\n",
    "#         return False\n",
    "\n",
    "# def is_even(n):\n",
    "#     return True if n % 2 == 0 else False\n",
    "\n",
    "def is_even(n):\n",
    "    return n % 2 == 0\n",
    "\n",
    "print(is_even(2))\n",
    "print(is_even(5))\n",
    "print(is_even(10))"
   ]
  },
  {
   "attachments": {},
   "cell_type": "markdown",
   "metadata": {},
   "source": [
    "# Match"
   ]
  },
  {
   "cell_type": "code",
   "execution_count": 33,
   "metadata": {},
   "outputs": [
    {
     "name": "stdout",
     "output_type": "stream",
     "text": [
      "padma\n",
      "Who?\n"
     ]
    }
   ],
   "source": [
    "name = input('Enter your name: ')\n",
    "print(name)\n",
    "if name == 'Harry':\n",
    "    print('Gryffindor')\n",
    "elif name == 'Hermione':\n",
    "    print('Gryffindor')\n",
    "elif name == 'Ron':\n",
    "    print('Gryffindor')\n",
    "elif name == 'Draco':\n",
    "    print('Slytherin')\n",
    "else:\n",
    "    print('Who?')"
   ]
  },
  {
   "cell_type": "code",
   "execution_count": 35,
   "metadata": {},
   "outputs": [
    {
     "name": "stdout",
     "output_type": "stream",
     "text": [
      "Harry\n",
      "Gryffindor\n"
     ]
    }
   ],
   "source": [
    "name = input('Enter your name: ')\n",
    "print(name)\n",
    "\n",
    "if name == 'Harry' or name == 'Hermione' or name == 'Ron':\n",
    "    print('Gryffindor')\n",
    "elif name == 'Draco':\n",
    "    print('Slytherin')\n",
    "else:\n",
    "    print('Who?')"
   ]
  },
  {
   "cell_type": "code",
   "execution_count": 34,
   "metadata": {},
   "outputs": [
    {
     "name": "stdout",
     "output_type": "stream",
     "text": [
      "Harry\n",
      "Gryffindor\n"
     ]
    }
   ],
   "source": [
    "name = input('Enter your name: ')\n",
    "print(name)\n",
    "\n",
    "match name:\n",
    "    case 'Harry':\n",
    "        print('Gryffindor')\n",
    "    case 'Hermione':\n",
    "        print('Gryffindor')\n",
    "    case 'Ron':\n",
    "        print('Gryffindor')\n",
    "    case 'Draco':\n",
    "        print('Slytherin')\n",
    "    case _:\n",
    "        print('Who?')"
   ]
  },
  {
   "cell_type": "code",
   "execution_count": 36,
   "metadata": {},
   "outputs": [
    {
     "name": "stdout",
     "output_type": "stream",
     "text": [
      "Draco\n",
      "Slytherin\n"
     ]
    }
   ],
   "source": [
    "name = input('Enter your name: ')\n",
    "print(name)\n",
    "\n",
    "match name:\n",
    "    case 'Harry' | 'Hermione' | 'Ron':\n",
    "        print('Gryffindor')\n",
    "    case 'Draco':\n",
    "        print('Slytherin')\n",
    "    case _:\n",
    "        print('Who?')"
   ]
  }
 ],
 "metadata": {
  "kernelspec": {
   "display_name": "Python 3",
   "language": "python",
   "name": "python3"
  },
  "language_info": {
   "codemirror_mode": {
    "name": "ipython",
    "version": 3
   },
   "file_extension": ".py",
   "mimetype": "text/x-python",
   "name": "python",
   "nbconvert_exporter": "python",
   "pygments_lexer": "ipython3",
   "version": "3.11.3"
  },
  "orig_nbformat": 4
 },
 "nbformat": 4,
 "nbformat_minor": 2
}
