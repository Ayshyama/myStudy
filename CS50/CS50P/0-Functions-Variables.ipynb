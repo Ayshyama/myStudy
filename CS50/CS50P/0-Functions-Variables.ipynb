{
 "cells": [
  {
   "cell_type": "code",
   "execution_count": 4,
   "metadata": {},
   "outputs": [
    {
     "name": "stdout",
     "output_type": "stream",
     "text": [
      "hello, igor\n",
      "hello, igor\n"
     ]
    }
   ],
   "source": [
    "# Ask user for their name\n",
    "name = input(\"What's your name?: \")\n",
    "\n",
    "# Say hello to user\n",
    "print(f'hello, {name}')\n",
    "print('hello,', name)"
   ]
  },
  {
   "cell_type": "code",
   "execution_count": 16,
   "metadata": {},
   "outputs": [
    {
     "name": "stdout",
     "output_type": "stream",
     "text": [
      "hello, Igor\n"
     ]
    }
   ],
   "source": [
    "# Ask user for their name\n",
    "name = input(\"What's your name?: \")\n",
    "\n",
    "# Remove whitesspace from str\n",
    "name = name.strip()\n",
    "# Capitalize user's name\n",
    "name = name.capitalize()\n",
    "# Remove whitespace from str and cap\n",
    "name = name.strip().title()\n",
    "\n",
    "# Print\n",
    "print(f\"Hello, {name}\")"
   ]
  },
  {
   "cell_type": "code",
   "execution_count": 10,
   "metadata": {},
   "outputs": [
    {
     "name": "stdout",
     "output_type": "stream",
     "text": [
      "Hello, 999\n"
     ]
    }
   ],
   "source": [
    "# Make shorter\n",
    "name = input(\"What's your name?: \").strip().title()\n",
    "print(f\"Hello, {name}\")"
   ]
  },
  {
   "cell_type": "code",
   "execution_count": 1,
   "metadata": {},
   "outputs": [
    {
     "name": "stdout",
     "output_type": "stream",
     "text": [
      "55\n",
      "10\n"
     ]
    }
   ],
   "source": [
    "# CALCULATOR\n",
    "\n",
    "x = input(\"What's x?: \")\n",
    "y = input(\"What's y?: \")\n",
    "\n",
    "n = x + y\n",
    "print(n)\n",
    "z = int(x) + int(y)\n",
    "print(z)"
   ]
  },
  {
   "cell_type": "code",
   "execution_count": 8,
   "metadata": {},
   "outputs": [
    {
     "name": "stdout",
     "output_type": "stream",
     "text": [
      "2\n"
     ]
    }
   ],
   "source": [
    "x = int(input(\"What's x?: \")) # we can also use 'float'\n",
    "y = int(input(\"What's y?: \"))\n",
    "\n",
    "print(x + y)\n"
   ]
  },
  {
   "cell_type": "code",
   "execution_count": 6,
   "metadata": {},
   "outputs": [
    {
     "name": "stdout",
     "output_type": "stream",
     "text": [
      "10\n"
     ]
    }
   ],
   "source": [
    "print(int(input('Enter X: ')) + int(input('Enter Y: ')))\n",
    "\n",
    "# Yes, it's one line and it's nice and compact, but it's not readeble enough. \n",
    "# It has more probability to make syntaxys or logical mistake.\n",
    "# Probably it can take more time to you to think how to write it and to people who will read it."
   ]
  },
  {
   "attachments": {},
   "cell_type": "markdown",
   "metadata": {},
   "source": [
    "# Round\n",
    "\n",
    "round(number[, ndigits])"
   ]
  },
  {
   "cell_type": "code",
   "execution_count": 12,
   "metadata": {},
   "outputs": [
    {
     "name": "stdout",
     "output_type": "stream",
     "text": [
      "1000\n",
      "1,000\n"
     ]
    }
   ],
   "source": [
    "x = float(input(\"What's x?: \")) \n",
    "y = float(input(\"What's y?: \"))\n",
    "\n",
    "z = round(x + y)\n",
    "print(z)\n",
    "print(f\"{z:,}\")  # format to add coma"
   ]
  },
  {
   "cell_type": "code",
   "execution_count": 15,
   "metadata": {},
   "outputs": [
    {
     "name": "stdout",
     "output_type": "stream",
     "text": [
      "1.0377358490566038\n",
      "1.04\n",
      "1.04\n"
     ]
    }
   ],
   "source": [
    "x = float(input(\"What's x?: \")) \n",
    "y = float(input(\"What's y?: \"))\n",
    "\n",
    "z = x / y\n",
    "print(z)\n",
    "# 2/3 = 0.6666666666666666\n",
    "z = round(x / y, 2)\n",
    "print(z)\n",
    "# 2/3 = 0.67\n",
    "\n",
    "# one line\n",
    "print(f\"{z:.2f}\")"
   ]
  },
  {
   "attachments": {},
   "cell_type": "markdown",
   "metadata": {},
   "source": [
    "## FUNCTIONS ##"
   ]
  },
  {
   "cell_type": "code",
   "execution_count": 20,
   "metadata": {},
   "outputs": [
    {
     "name": "stdout",
     "output_type": "stream",
     "text": [
      "Hello, Igor\n"
     ]
    }
   ],
   "source": [
    "def hello(to):\n",
    "    print(\"Hello,\", to)\n",
    "\n",
    "\n",
    "name = input(\"What's your name?: \")\n",
    "\n",
    "hello(name)"
   ]
  },
  {
   "cell_type": "code",
   "execution_count": 32,
   "metadata": {},
   "outputs": [
    {
     "name": "stdout",
     "output_type": "stream",
     "text": [
      "Hello, World!\n",
      "Hello, Igor\n"
     ]
    }
   ],
   "source": [
    "def hello(to='World!'):\n",
    "    print(\"Hello,\", to)\n",
    "\n",
    "\n",
    "hello()\n",
    "\n",
    "name = input(\"What's your name?: \")\n",
    "\n",
    "hello(name)"
   ]
  },
  {
   "cell_type": "code",
   "execution_count": 33,
   "metadata": {},
   "outputs": [
    {
     "name": "stdout",
     "output_type": "stream",
     "text": [
      "Hello, Igor\n"
     ]
    }
   ],
   "source": [
    "def main():\n",
    "    name = input(\"What's your name?\")\n",
    "    hello(name)\n",
    "\n",
    "def hello(to = \"World!\"):\n",
    "    print('Hello,', name)\n",
    "\n",
    "main()"
   ]
  },
  {
   "attachments": {},
   "cell_type": "markdown",
   "metadata": {},
   "source": [
    "## Return ##"
   ]
  },
  {
   "cell_type": "code",
   "execution_count": 39,
   "metadata": {},
   "outputs": [
    {
     "name": "stdout",
     "output_type": "stream",
     "text": [
      "x squared is: 4\n"
     ]
    }
   ],
   "source": [
    "# Calculator\n",
    "\n",
    "def main():\n",
    "    x = int(input('Enter x: '))\n",
    "    print('x squared is:', square(x))\n",
    "\n",
    "\n",
    "def square(n):\n",
    "    return n * n\n",
    "    # or return n ** 2\n",
    "    # or return pow(n, 2)\n",
    "\n",
    "main()"
   ]
  }
 ],
 "metadata": {
  "kernelspec": {
   "display_name": "Python 3",
   "language": "python",
   "name": "python3"
  },
  "language_info": {
   "codemirror_mode": {
    "name": "ipython",
    "version": 3
   },
   "file_extension": ".py",
   "mimetype": "text/x-python",
   "name": "python",
   "nbconvert_exporter": "python",
   "pygments_lexer": "ipython3",
   "version": "3.11.3"
  },
  "orig_nbformat": 4
 },
 "nbformat": 4,
 "nbformat_minor": 2
}
