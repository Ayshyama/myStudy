{
 "cells": [
  {
   "cell_type": "code",
   "execution_count": 4,
   "metadata": {},
   "outputs": [
    {
     "name": "stdout",
     "output_type": "stream",
     "text": [
      "hello, igor\n",
      "hello, igor\n"
     ]
    }
   ],
   "source": [
    "# Ask user for their name\n",
    "name = input(\"What's your name?: \")\n",
    "\n",
    "# Say hello to user\n",
    "print(f'hello, {name}')\n",
    "print('hello,', name)"
   ]
  },
  {
   "cell_type": "code",
   "execution_count": 16,
   "metadata": {},
   "outputs": [
    {
     "name": "stdout",
     "output_type": "stream",
     "text": [
      "hello, Igor\n"
     ]
    }
   ],
   "source": [
    "# Ask user for their name\n",
    "name = input(\"What's your name?: \")\n",
    "\n",
    "# Remove whitesspace from str\n",
    "name = name.strip()\n",
    "# Capitalize user's name\n",
    "name = name.capitalize()\n",
    "# Remove whitespace from str and cap\n",
    "name = name.strip().title()\n",
    "\n",
    "# Print\n",
    "print(f\"Hello, {name}\")"
   ]
  },
  {
   "cell_type": "code",
   "execution_count": 18,
   "metadata": {},
   "outputs": [
    {
     "name": "stdout",
     "output_type": "stream",
     "text": [
      "hello, Igor\n"
     ]
    }
   ],
   "source": [
    "# Make shorter\n",
    "name = input(\"What's your name?: \").strip().title()\n",
    "print(f\"Hello, {name}\")"
   ]
  },
  {
   "cell_type": "code",
   "execution_count": 20,
   "metadata": {},
   "outputs": [
    {
     "name": "stdout",
     "output_type": "stream",
     "text": [
      "12\n"
     ]
    }
   ],
   "source": [
    "# CALCULATOR\n",
    "\n",
    "x = input(\"What's x?: \")\n",
    "y = input(\"What's y?: \")\n",
    "\n",
    "z = x + y\n",
    "print(z)"
   ]
  }
 ],
 "metadata": {
  "kernelspec": {
   "display_name": "Python 3",
   "language": "python",
   "name": "python3"
  },
  "language_info": {
   "codemirror_mode": {
    "name": "ipython",
    "version": 3
   },
   "file_extension": ".py",
   "mimetype": "text/x-python",
   "name": "python",
   "nbconvert_exporter": "python",
   "pygments_lexer": "ipython3",
   "version": "3.11.3"
  },
  "orig_nbformat": 4
 },
 "nbformat": 4,
 "nbformat_minor": 2
}
