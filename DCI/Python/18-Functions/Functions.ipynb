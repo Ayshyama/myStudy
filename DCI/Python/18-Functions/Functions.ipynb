{
 "cells": [
  {
   "cell_type": "code",
   "execution_count": null,
   "metadata": {},
   "outputs": [],
   "source": [
    "def calculate_total_price(unit_price, quantity, tax_rate):\n",
    "    return unit_price * quantity * (1 + tax_rate)\n",
    "\n",
    "print(calculate_total_price(**{''}))\n"
   ]
  },
  {
   "cell_type": "code",
   "execution_count": 5,
   "metadata": {},
   "outputs": [
    {
     "name": "stdout",
     "output_type": "stream",
     "text": [
      "24.48\n",
      "24.48\n",
      "24.48\n"
     ]
    }
   ],
   "source": [
    "def calculate_total_price(unit_price, quantity, tax_rate=0.02):\n",
    "    return unit_price * quantity * (1 + tax_rate)\n",
    "\n",
    "print(calculate_total_price(**{'unit_price':8, 'quantity':3}))\n",
    "\n",
    "my_kwargs = {'unit_price':8, 'quantity':3}\n",
    "print(calculate_total_price(**my_kwargs))\n",
    "\n",
    "print(calculate_total_price(unit_price=8, quantity=3))"
   ]
  }
 ],
 "metadata": {
  "kernelspec": {
   "display_name": "Python 3",
   "language": "python",
   "name": "python3"
  },
  "language_info": {
   "codemirror_mode": {
    "name": "ipython",
    "version": 3
   },
   "file_extension": ".py",
   "mimetype": "text/x-python",
   "name": "python",
   "nbconvert_exporter": "python",
   "pygments_lexer": "ipython3",
   "version": "3.11.2"
  },
  "orig_nbformat": 4
 },
 "nbformat": 4,
 "nbformat_minor": 2
}
