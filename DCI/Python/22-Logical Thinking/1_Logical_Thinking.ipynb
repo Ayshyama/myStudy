{
 "cells": [
  {
   "cell_type": "markdown",
   "source": [
    "## Logical Thinking\n",
    "- Truth tables\n",
    "- Truthy and falsy values\n",
    "- short-circuiting"
   ],
   "metadata": {
    "collapsed": false
   }
  },
  {
   "cell_type": "markdown",
   "source": [
    "Term                            |\t       Definiton\n",
    "Boolean                         |   A data type that has 2 possible values: True/False.\n",
    "Predicate                       |\tAn expression that evaluates/returns a Boolean.\n",
    "Logical Operator (and, or, not) |\tA symbol that performs a logical operation.\n",
    "Logical expression              |\tA set of predicates and operators that produce a single Boolean.\n",
    "Evaluation                      |   The result of executing an expression or a predicate."
   ],
   "metadata": {
    "collapsed": false
   }
  },
  {
   "cell_type": "code",
   "execution_count": 1,
   "metadata": {
    "collapsed": true,
    "ExecuteTime": {
     "end_time": "2023-06-01T12:46:58.784146400Z",
     "start_time": "2023-06-01T12:46:58.777480100Z"
    }
   },
   "outputs": [
    {
     "data": {
      "text/plain": "True"
     },
     "execution_count": 1,
     "metadata": {},
     "output_type": "execute_result"
    }
   ],
   "source": [
    "True  # Boolean and at the same time a predicated"
   ]
  },
  {
   "cell_type": "code",
   "execution_count": 2,
   "outputs": [
    {
     "data": {
      "text/plain": "True"
     },
     "execution_count": 2,
     "metadata": {},
     "output_type": "execute_result"
    }
   ],
   "source": [
    "'x' in 'abcx'  # Predicate (with Membership Operator)"
   ],
   "metadata": {
    "collapsed": false,
    "ExecuteTime": {
     "end_time": "2023-06-01T12:47:08.522091600Z",
     "start_time": "2023-06-01T12:47:08.518490900Z"
    }
   }
  },
  {
   "cell_type": "code",
   "execution_count": 3,
   "outputs": [
    {
     "data": {
      "text/plain": "True"
     },
     "execution_count": 3,
     "metadata": {},
     "output_type": "execute_result"
    }
   ],
   "source": [
    "'x' == 'x' #Predicate  (with Comparison Operator/Relational operators)"
   ],
   "metadata": {
    "collapsed": false,
    "ExecuteTime": {
     "end_time": "2023-06-01T12:47:34.265822600Z",
     "start_time": "2023-06-01T12:47:34.262809700Z"
    }
   }
  },
  {
   "cell_type": "code",
   "execution_count": 4,
   "outputs": [
    {
     "data": {
      "text/plain": "True"
     },
     "execution_count": 4,
     "metadata": {},
     "output_type": "execute_result"
    }
   ],
   "source": [
    "'x' in 'abcx' and 'x' == 'x' # The Logical expression evaluates to True; can you spot the logical operator"
   ],
   "metadata": {
    "collapsed": false,
    "ExecuteTime": {
     "end_time": "2023-06-01T12:47:41.480688Z",
     "start_time": "2023-06-01T12:47:41.478181200Z"
    }
   }
  },
  {
   "cell_type": "markdown",
   "source": [
    "## Recap Truth Tables\n",
    "Truth Tables help us evaluate if a logical expression is doing what we think it does."
   ],
   "metadata": {
    "collapsed": false
   }
  },
  {
   "cell_type": "markdown",
   "source": [
    "### AND\n",
    "| AND    | True  | False |\n",
    "|--------|-------|-------|\n",
    "| True   | True  | False |\n",
    "| False  | False | False |\n",
    "\n",
    "### OR\n",
    "| OR     | True  | False |\n",
    "|--------|-------|-------|\n",
    "| True   | True  | True  |\n",
    "| False  | True  | False |\n",
    "\n",
    "### NOT\n",
    "| NOT  | Expression |\n",
    "|------|------------|\n",
    "| True | False      |\n",
    "| False| True       |\n",
    "\n",
    "### XOR: !=\n",
    "| XOR   | A     | B     | Expression |\n",
    "|-------|-------|-------|------------|\n",
    "| True  | True  | True  | False      |\n",
    "| True  | True  | False | True       |\n",
    "| True  | False | True  | True       |\n",
    "| False | False | False | False      |\n",
    "\n",
    "### NAND: not(A and B)\n",
    "| NAND  | A     | B     | Expression |\n",
    "|-------|-------|-------|------------|\n",
    "| True  | True  | True  | False      |\n",
    "| True  | True  | False | True       |\n",
    "| True  | False | True  | True       |\n",
    "| True  | False | False | True       |\n",
    "\n",
    "### NOR: not(A or B)\n",
    "| NOR   | A     | B     | Expression |\n",
    "|-------|-------|-------|------------|\n",
    "| True  | True  | True  | False      |\n",
    "| False | True  | False | False      |\n",
    "| False | False | True  | False      |\n",
    "| False | False | False | True       |\n",
    "\n",
    "### XNOR: A == B\n",
    "| XNOR  | A     | B     | Expression |\n",
    "|-------|-------|-------|------------|\n",
    "| True  | True  | True  | True       |\n",
    "| True  | True  | False | False      |\n",
    "| False | False | True  | False      |\n",
    "| True  | False | False | True       |\n",
    "\n",
    "### Truthy and Falsy Values:\n",
    "| Truthy  | Falsy |\n",
    "|---------|-------|\n",
    "| True    | x     |\n",
    "| False   | x     |\n",
    "| []      | x     |\n",
    "| ''      | x     |\n",
    "| {}      | x     |\n",
    "| 'Hello' | x     |\n",
    "| 1       | x     |\n",
    "| 0       | x     |\n",
    "| None    | x     |\n",
    "\n",
    "\n"
   ],
   "metadata": {
    "collapsed": false
   }
  },
  {
   "cell_type": "markdown",
   "source": [
    "## Predicate\n",
    "Predicates are statements that can be either true or false\n",
    "\n",
    "A statement whose truth value depends on one or more variables from any set is a predicate.\n",
    "\n",
    "1. Comparison predicates: (== , !=, <, >)\n",
    "2. Membership predicates: (3 in [1,2,3], 3 in [1,2], 3 not in [1,2])\n",
    "3. Identity predicates:: used to check if two values or expressions refer to the same object in memory\n",
    "4. Boolean predicates:: combine other predicates or expressions using logical operators (and, or, and not)"
   ],
   "metadata": {
    "collapsed": false
   }
  },
  {
   "cell_type": "code",
   "execution_count": 5,
   "outputs": [
    {
     "name": "stdout",
     "output_type": "stream",
     "text": [
      "False\n",
      "True\n",
      "True\n"
     ]
    }
   ],
   "source": [
    "#3. Identity predicates\n",
    "\n",
    "a = [1, 2, 3]\n",
    "b = [1, 2, 3]\n",
    "c = a\n",
    "\n",
    "print(a is b)     # False\n",
    "print (a is c)    # True\n",
    "print(b is not c) # True\n"
   ],
   "metadata": {
    "collapsed": false,
    "ExecuteTime": {
     "end_time": "2023-06-01T13:06:09.371876500Z",
     "start_time": "2023-06-01T13:06:09.367041200Z"
    }
   }
  },
  {
   "cell_type": "code",
   "execution_count": 6,
   "outputs": [
    {
     "name": "stdout",
     "output_type": "stream",
     "text": [
      "True\n",
      "False\n",
      "True\n"
     ]
    }
   ],
   "source": [
    "#4. Boolean predicates\n",
    "\n",
    "x = 5\n",
    "y = 10\n",
    "\n",
    "print(x < y and x != y) # True\n",
    "print(x == y or x > y)  # False\n",
    "print(not (x==y))       # True"
   ],
   "metadata": {
    "collapsed": false,
    "ExecuteTime": {
     "end_time": "2023-06-01T13:07:19.477615500Z",
     "start_time": "2023-06-01T13:07:19.471354600Z"
    }
   }
  },
  {
   "cell_type": "markdown",
   "source": [
    "- usually we are more interested in object equality than identity\n",
    "- if you are not sure ==. It's usually what you want\n",
    "- but it is faster. Compares just two ids instead of calling a.__ eq__(b)"
   ],
   "metadata": {
    "collapsed": false
   }
  },
  {
   "cell_type": "markdown",
   "source": [
    "## Evaluation Precedence - приоритет оценки\n",
    "\n",
    "Evaluation precedence determines the order in which operators and expressions are evaluated in an expression. (Operator precedence)\n",
    "\n",
    "In Py, the order of operator precedece is as follows (from highest to lowest)\n",
    "\n",
    "1. Parentheses\n",
    "2. Exponentiation ()**\n",
    "3. Multiplication, Division, and Floor Division (*,/,//)\n",
    "4. Addition and Substraction (+, -)\n",
    "5. Comparison Operators (<, <=, >, >=, ==, !=)\n",
    "6. Boolean Operators (not, and, or)\n",
    "\n",
    "(highest precedence, followed by and, and then or)\n",
    "\n"
   ],
   "metadata": {
    "collapsed": false
   }
  },
  {
   "cell_type": "code",
   "execution_count": 7,
   "outputs": [
    {
     "name": "stdout",
     "output_type": "stream",
     "text": [
      "16\n"
     ]
    }
   ],
   "source": [
    "#1. Parantheses ():\n",
    "\n",
    "x = (5 + 3) * 2\n",
    "print(x)"
   ],
   "metadata": {
    "collapsed": false,
    "ExecuteTime": {
     "end_time": "2023-06-01T13:15:21.283178200Z",
     "start_time": "2023-06-01T13:15:21.277270300Z"
    }
   }
  },
  {
   "cell_type": "code",
   "execution_count": 12,
   "outputs": [
    {
     "name": "stdout",
     "output_type": "stream",
     "text": [
      "512\n"
     ]
    }
   ],
   "source": [
    "#2. Exponentiation ():**\n",
    "\n",
    "x = 2 ** 3 ** 2\n",
    "print(x)"
   ],
   "metadata": {
    "collapsed": false,
    "ExecuteTime": {
     "end_time": "2023-06-01T13:17:54.270642900Z",
     "start_time": "2023-06-01T13:17:54.269132400Z"
    }
   }
  },
  {
   "cell_type": "code",
   "execution_count": 13,
   "outputs": [
    {
     "name": "stdout",
     "output_type": "stream",
     "text": [
      "15.0\n",
      "6\n"
     ]
    }
   ],
   "source": [
    "#3. Multiplication, Division, and Floor Division (*, /, //):\n",
    "\n",
    "\"\"\"\n",
    "Expressions involving multiplication, division, and floor division are evaluated next, from left to right. Multiplication and division have equal precedence, so they are evaluated left-to-right in the order they appear. Floor division (//) behaves the same as division, but rounds down to the nearest integer. For example:\n",
    "\"\"\"\n",
    "\n",
    "x = 10 / 2 * 3\n",
    "\n",
    "print(x)  # Output: 15.0\n",
    "print(y)  # Output: 6"
   ],
   "metadata": {
    "collapsed": false,
    "ExecuteTime": {
     "end_time": "2023-06-01T13:18:19.102401600Z",
     "start_time": "2023-06-01T13:18:19.100396200Z"
    }
   }
  },
  {
   "cell_type": "code",
   "execution_count": 14,
   "outputs": [
    {
     "name": "stdout",
     "output_type": "stream",
     "text": [
      "13\n",
      "7\n"
     ]
    }
   ],
   "source": [
    "#4. Addition and Subtraction (+, -):\n",
    "\n",
    "x = 10 + 5 - 2\n",
    "y = 2 - 5 + 10\n",
    "print(x)  # Output: 13\n",
    "print(y)  # Output: 7"
   ],
   "metadata": {
    "collapsed": false,
    "ExecuteTime": {
     "end_time": "2023-06-01T13:21:35.683412100Z",
     "start_time": "2023-06-01T13:21:35.680851500Z"
    }
   }
  },
  {
   "cell_type": "code",
   "execution_count": 16,
   "outputs": [
    {
     "name": "stdout",
     "output_type": "stream",
     "text": [
      "False\n",
      "True\n"
     ]
    }
   ],
   "source": [
    "#5. Comparison Operators (<, <=, >, >=, ==, !=):\n",
    "\n",
    "x = 5 < 10 == True\n",
    "y = 2 != 3 > 1\n",
    "print(x)  # Output: True\n",
    "print(y)  # Output: False"
   ],
   "metadata": {
    "collapsed": false,
    "ExecuteTime": {
     "end_time": "2023-06-01T13:22:04.836120Z",
     "start_time": "2023-06-01T13:22:04.825613200Z"
    }
   }
  },
  {
   "cell_type": "code",
   "execution_count": 17,
   "outputs": [
    {
     "name": "stdout",
     "output_type": "stream",
     "text": [
      "True\n",
      "True\n"
     ]
    }
   ],
   "source": [
    "#6. Boolean Operators (and, or, not):\n",
    "\n",
    "# Expressions involving boolean operators are evaluated next. not has the highest precedence, followed by and, and then or.\n",
    "\n",
    "x = True or False and not True\n",
    "y = not False and True or False\n",
    "print(x)  # Output: True\n",
    "print(y)  # Output: True\n"
   ],
   "metadata": {
    "collapsed": false,
    "ExecuteTime": {
     "end_time": "2023-06-01T13:23:09.819198Z",
     "start_time": "2023-06-01T13:23:09.808795800Z"
    }
   }
  },
  {
   "cell_type": "code",
   "execution_count": 21,
   "outputs": [
    {
     "data": {
      "text/plain": "81"
     },
     "execution_count": 21,
     "metadata": {},
     "output_type": "execute_result"
    }
   ],
   "source": [
    "3 ** 2 * 2      # 18\n",
    "3 ** ( 2 * 2)   # 81\n",
    "3 ** 2 ** 2     # 81"
   ],
   "metadata": {
    "collapsed": false,
    "ExecuteTime": {
     "end_time": "2023-06-01T13:25:01.197560700Z",
     "start_time": "2023-06-01T13:25:01.195047900Z"
    }
   }
  },
  {
   "cell_type": "code",
   "execution_count": 22,
   "outputs": [
    {
     "name": "stdout",
     "output_type": "stream",
     "text": [
      "True\n",
      "True\n"
     ]
    }
   ],
   "source": [
    "x = True or False and not True\n",
    "y = not False and True or False\n",
    "print(x)  # Output: True\n",
    "print(y)  # Output: True"
   ],
   "metadata": {
    "collapsed": false,
    "ExecuteTime": {
     "end_time": "2023-06-01T13:25:10.234809200Z",
     "start_time": "2023-06-01T13:25:10.223689800Z"
    }
   }
  },
  {
   "cell_type": "markdown",
   "source": [
    "## Naming and Grouping Predicate"
   ],
   "metadata": {
    "collapsed": false
   }
  },
  {
   "cell_type": "code",
   "execution_count": 23,
   "outputs": [
    {
     "name": "stdout",
     "output_type": "stream",
     "text": [
      "x is even\n"
     ]
    }
   ],
   "source": [
    "# define a function that takes one or more arguments and returns a boolean value\n",
    "\n",
    "def is_even(num):\n",
    "    return num % 2 == 0\n",
    "\n",
    "\n",
    "x = 4\n",
    "if is_even(x):\n",
    "    print(\"x is even\")\n",
    "else:\n",
    "    print(\"x is odd\")"
   ],
   "metadata": {
    "collapsed": false,
    "ExecuteTime": {
     "end_time": "2023-06-01T13:26:43.574973900Z",
     "start_time": "2023-06-01T13:26:43.565205300Z"
    }
   }
  },
  {
   "cell_type": "markdown",
   "source": [
    "Suppose you have a list of strings and you want to check if any of the strings contain the letter 'a' and the letter 'b'. You could define two predicates as functions:\n",
    "\n",
    "1. one to check if a string contains the letter 'a',\n",
    "2. and one to check if a string contains the letter 'b'.\n",
    "\n",
    "Then you could define a third function that combines these two predicates using the logical and operator to check if a string contains both 'a' and 'b'."
   ],
   "metadata": {
    "collapsed": false
   }
  },
  {
   "cell_type": "code",
   "execution_count": 27,
   "outputs": [
    {
     "name": "stdout",
     "output_type": "stream",
     "text": [
      "At least one string contains both \"a\" and \"b\"\n"
     ]
    },
    {
     "data": {
      "text/plain": "False"
     },
     "execution_count": 27,
     "metadata": {},
     "output_type": "execute_result"
    }
   ],
   "source": [
    "def contains_a(string):\n",
    "    return 'a' in string\n",
    "\n",
    "def contains_b(string):\n",
    "    return 'b' in string\n",
    "\n",
    "def contains_a_and_b(string):\n",
    "    return contains_a(string) and contains_b(string)\n",
    "\n",
    "\n",
    "my_list = ['hello', 'world', 'foobar', 'abracadabra']\n",
    "\n",
    "if any(contains_a_and_b(string) for string in my_list):\n",
    "    print('At least one string contains both \"a\" and \"b\"')\n",
    "else:\n",
    "    print('No string contains bot \"a\" and \"b\"')\n",
    "\n",
    "\n",
    "contains_a_and_b(my_list)\n"
   ],
   "metadata": {
    "collapsed": false,
    "ExecuteTime": {
     "end_time": "2023-06-01T14:06:01.887305300Z",
     "start_time": "2023-06-01T14:06:01.883087900Z"
    }
   }
  },
  {
   "cell_type": "markdown",
   "source": [
    "## Short Circuiting is Supported by the Logical Or and the Logical And\n",
    "\n",
    "## Logical AND\n",
    "\n",
    "- If both operands are truthy, the operator returns a truthy value. Otherwise the operator returns a falsy value.\n",
    "- Notice that this description says that the operator returns \"a truthy value\" or a \"falsy value\" but does not specify what that value is.\n",
    "- This operator starts by evaluating its 1st operand.\n",
    "- if the value of the 1st operand is falsy, the value of the entire logical expression must be falsy: and simply returns the value of the 1st operand and does not even evaluate the expression of the 2nd operand\n",
    "- if the value of the 1st operand is truthy, then the overall value of the expression depends on the value of the second operand\n",
    "- So when the value of the 1st operand is truthy, the and operator evaluates and returns the value of the 2nd operand:"
   ],
   "metadata": {
    "collapsed": false
   }
  },
  {
   "cell_type": "code",
   "execution_count": 28,
   "outputs": [
    {
     "data": {
      "text/plain": "'second truthy'"
     },
     "execution_count": 28,
     "metadata": {},
     "output_type": "execute_result"
    }
   ],
   "source": [
    "truthy1 = 'first truthy'\n",
    "truthy2 = 'second truthy'\n",
    "falsy1 = 0\n",
    "falsy2 = ''\n",
    "\n",
    "truthy1 and truthy2"
   ],
   "metadata": {
    "collapsed": false,
    "ExecuteTime": {
     "end_time": "2023-06-01T14:17:37.123048200Z",
     "start_time": "2023-06-01T14:17:37.111486100Z"
    }
   }
  },
  {
   "cell_type": "code",
   "execution_count": 29,
   "outputs": [
    {
     "data": {
      "text/plain": "''"
     },
     "execution_count": 29,
     "metadata": {},
     "output_type": "execute_result"
    }
   ],
   "source": [
    "truthy1 and falsy2"
   ],
   "metadata": {
    "collapsed": false,
    "ExecuteTime": {
     "end_time": "2023-06-01T14:18:59.308536800Z",
     "start_time": "2023-06-01T14:18:59.296499400Z"
    }
   }
  },
  {
   "cell_type": "code",
   "execution_count": 30,
   "outputs": [
    {
     "data": {
      "text/plain": "0"
     },
     "execution_count": 30,
     "metadata": {},
     "output_type": "execute_result"
    }
   ],
   "source": [
    "falsy1 and truthy2"
   ],
   "metadata": {
    "collapsed": false,
    "ExecuteTime": {
     "end_time": "2023-06-01T14:19:14.109302900Z",
     "start_time": "2023-06-01T14:19:14.091787900Z"
    }
   }
  },
  {
   "cell_type": "code",
   "execution_count": 31,
   "outputs": [
    {
     "data": {
      "text/plain": "0"
     },
     "execution_count": 31,
     "metadata": {},
     "output_type": "execute_result"
    }
   ],
   "source": [
    "falsy1 and falsy2"
   ],
   "metadata": {
    "collapsed": false,
    "ExecuteTime": {
     "end_time": "2023-06-01T14:19:25.312316100Z",
     "start_time": "2023-06-01T14:19:25.301809500Z"
    }
   }
  },
  {
   "cell_type": "code",
   "execution_count": 32,
   "outputs": [
    {
     "data": {
      "text/plain": "False"
     },
     "execution_count": 32,
     "metadata": {},
     "output_type": "execute_result"
    }
   ],
   "source": [
    "# can be used to catch errors:\n",
    "\n",
    "x = 0\n",
    "\n",
    "x != 0 and 1 / x > 0"
   ],
   "metadata": {
    "collapsed": false,
    "ExecuteTime": {
     "end_time": "2023-06-01T14:19:42.699849200Z",
     "start_time": "2023-06-01T14:19:42.688961700Z"
    }
   }
  },
  {
   "cell_type": "markdown",
   "source": [
    "## Logical OR\n",
    "\n",
    "- If one or both operands is truthy, it returns a truthy value.\n",
    "- If both operands are falsy, it returns a falsy value.\n",
    "- This operator starts by evaluating its first operand.\n",
    "- If the value of the first operand is truthy, it short-circuits and returns that truthy value without ever evaluating the 2nd operand expression\n",
    "- If the value of the first operand is falsy, then the or-operator evaluates its 2nd operand and returns the value of the second expression"
   ],
   "metadata": {
    "collapsed": false
   }
  },
  {
   "cell_type": "code",
   "execution_count": 38,
   "outputs": [
    {
     "data": {
      "text/plain": "'first truthy'"
     },
     "execution_count": 38,
     "metadata": {},
     "output_type": "execute_result"
    }
   ],
   "source": [
    "truthy1 = 'first truthy'\n",
    "truthy2 = 'second truthy'\n",
    "falsy1 = 0\n",
    "falsy2 = ''\n",
    "\n",
    "truthy1 or truthy2"
   ],
   "metadata": {
    "collapsed": false,
    "ExecuteTime": {
     "end_time": "2023-06-01T14:23:24.402230100Z",
     "start_time": "2023-06-01T14:23:24.395588300Z"
    }
   }
  },
  {
   "cell_type": "code",
   "execution_count": 34,
   "outputs": [
    {
     "data": {
      "text/plain": "'first truthy'"
     },
     "execution_count": 34,
     "metadata": {},
     "output_type": "execute_result"
    }
   ],
   "source": [
    "truthy1 or falsy2"
   ],
   "metadata": {
    "collapsed": false,
    "ExecuteTime": {
     "end_time": "2023-06-01T14:21:16.773017400Z",
     "start_time": "2023-06-01T14:21:16.760267400Z"
    }
   }
  },
  {
   "cell_type": "code",
   "execution_count": 36,
   "outputs": [
    {
     "data": {
      "text/plain": "'second truthy'"
     },
     "execution_count": 36,
     "metadata": {},
     "output_type": "execute_result"
    }
   ],
   "source": [
    "falsy1 or truthy2"
   ],
   "metadata": {
    "collapsed": false,
    "ExecuteTime": {
     "end_time": "2023-06-01T14:21:32.981394400Z",
     "start_time": "2023-06-01T14:21:32.976882400Z"
    }
   }
  },
  {
   "cell_type": "code",
   "execution_count": 37,
   "outputs": [
    {
     "data": {
      "text/plain": "''"
     },
     "execution_count": 37,
     "metadata": {},
     "output_type": "execute_result"
    }
   ],
   "source": [
    "falsy1 or falsy2"
   ],
   "metadata": {
    "collapsed": false,
    "ExecuteTime": {
     "end_time": "2023-06-01T14:21:44.558026700Z",
     "start_time": "2023-06-01T14:21:44.545014600Z"
    }
   }
  },
  {
   "cell_type": "markdown",
   "source": [
    "## Logical NOT\n",
    "\n",
    "- The not operator is a unary operator; it is placed before a single operand.\n",
    "- unlike and and or operators, the not operator converts its operands to boolean values"
   ],
   "metadata": {
    "collapsed": false
   }
  },
  {
   "cell_type": "code",
   "execution_count": 39,
   "outputs": [
    {
     "data": {
      "text/plain": "False"
     },
     "execution_count": 39,
     "metadata": {},
     "output_type": "execute_result"
    }
   ],
   "source": [
    "truthy1 = 'first truthy'\n",
    "truthy2 = 'second truthy'\n",
    "falsy1 = 0\n",
    "falsy2 = ''\n",
    "\n",
    "not truthy1"
   ],
   "metadata": {
    "collapsed": false,
    "ExecuteTime": {
     "end_time": "2023-06-01T14:24:11.634038600Z",
     "start_time": "2023-06-01T14:24:11.620861600Z"
    }
   }
  },
  {
   "cell_type": "markdown",
   "source": [
    "You can apply the not operator to achieve the same result that can be achieved with the bool function."
   ],
   "metadata": {
    "collapsed": false
   }
  },
  {
   "cell_type": "code",
   "execution_count": 40,
   "outputs": [
    {
     "data": {
      "text/plain": "True"
     },
     "execution_count": 40,
     "metadata": {},
     "output_type": "execute_result"
    }
   ],
   "source": [
    "not not truthy1"
   ],
   "metadata": {
    "collapsed": false,
    "ExecuteTime": {
     "end_time": "2023-06-01T14:24:27.906231Z",
     "start_time": "2023-06-01T14:24:27.893716400Z"
    }
   }
  },
  {
   "cell_type": "code",
   "execution_count": 41,
   "outputs": [
    {
     "data": {
      "text/plain": "'second truthy'"
     },
     "execution_count": 41,
     "metadata": {},
     "output_type": "execute_result"
    }
   ],
   "source": [
    "not not truthy1 and truthy2"
   ],
   "metadata": {
    "collapsed": false,
    "ExecuteTime": {
     "end_time": "2023-06-01T14:24:35.829171500Z",
     "start_time": "2023-06-01T14:24:35.816630500Z"
    }
   }
  },
  {
   "cell_type": "code",
   "execution_count": 42,
   "outputs": [
    {
     "data": {
      "text/plain": "True"
     },
     "execution_count": 42,
     "metadata": {},
     "output_type": "execute_result"
    }
   ],
   "source": [
    "not not (truthy1 and truthy2)"
   ],
   "metadata": {
    "collapsed": false,
    "ExecuteTime": {
     "end_time": "2023-06-01T14:25:03.709292200Z",
     "start_time": "2023-06-01T14:25:03.696267700Z"
    }
   }
  },
  {
   "cell_type": "markdown",
   "source": [
    "# Exercise\n",
    "\n",
    "Look at two laws of Boolean algebra (DeMorgan's Laws):\n",
    "1. De Morgan's Law 1: ¬(p ∧ q) ≡ (¬p ∨ ¬q)\n",
    "2. De Morgan's Law 2: ¬(p ∨ q) ≡ (¬p ∧ ¬q)\n",
    "\n",
    "- ¬ is the negation logic operator (NOT)\n",
    "- ∧ is the conjunction logic operator (AND),\n",
    "- ∨ is the disjunction logic operator (OR),"
   ],
   "metadata": {
    "collapsed": false
   }
  },
  {
   "cell_type": "markdown",
   "source": [
    "# Truth table for De Morgan's Law 1:\n",
    "|  p  |  q  |  p ∧ q  | ¬(p ∧ q) | ¬p ∨ ¬q |\n",
    "|-----|-----|---------|----------|---------|\n",
    "| T   | T   |   T     |   F      |   F     |\n",
    "| T   | F   |   F     |   T      |   T     |\n",
    "| F   | T   |   F     |   T      |   T     |\n",
    "| F   | F   |   F     |   T      |   T     |\n",
    "- As we can see from the truth table, the column for ¬(p ∧ q) is identical to the column for (¬p ∨ ¬q). Therefore, De Morgan's Law 1 holds true."
   ],
   "metadata": {
    "collapsed": false
   }
  },
  {
   "cell_type": "markdown",
   "source": [
    "# Truth table for De Morgan's Law 2:\n",
    "|  p  |  q  |  p ∨ q  | ¬(p ∨ q) | ¬p ∧ ¬q |\n",
    "|-----|-----|---------|----------|---------|\n",
    "| T   | T   |   T     |   F      |   F     |\n",
    "| T   | F   |   T     |   F      |   F     |\n",
    "| F   | T   |   T     |   F      |   F     |\n",
    "| F   | F   |   F     |   T      |   T     |\n",
    "- From the truth table, we observe that the column for ¬(p ∨ q) matches the column for (¬p ∧ ¬q). Therefore, De Morgan's Law 2 also holds true.\n"
   ],
   "metadata": {
    "collapsed": false
   }
  },
  {
   "cell_type": "code",
   "execution_count": 47,
   "outputs": [
    {
     "data": {
      "text/plain": "True"
     },
     "execution_count": 47,
     "metadata": {},
     "output_type": "execute_result"
    }
   ],
   "source": [
    "def validate_demorgan_law1(p, q):\n",
    "    return not (p and q) == (not p or not q)\n",
    "\n",
    "\n",
    "def validate_demorgan_law2(p, q):\n",
    "    return not (p or q) == (not p and not q)\n",
    "\n",
    "\n",
    "x = True\n",
    "y = True\n",
    "validate_demorgan_law1(x, y) # True\n",
    "validate_demorgan_law2(x, y) # True"
   ],
   "metadata": {
    "collapsed": false,
    "ExecuteTime": {
     "end_time": "2023-06-01T15:06:45.725472600Z",
     "start_time": "2023-06-01T15:06:45.722397800Z"
    }
   }
  },
  {
   "cell_type": "code",
   "execution_count": null,
   "outputs": [],
   "source": [],
   "metadata": {
    "collapsed": false
   }
  }
 ],
 "metadata": {
  "kernelspec": {
   "display_name": "Python 3",
   "language": "python",
   "name": "python3"
  },
  "language_info": {
   "codemirror_mode": {
    "name": "ipython",
    "version": 2
   },
   "file_extension": ".py",
   "mimetype": "text/x-python",
   "name": "python",
   "nbconvert_exporter": "python",
   "pygments_lexer": "ipython2",
   "version": "2.7.6"
  }
 },
 "nbformat": 4,
 "nbformat_minor": 0
}
