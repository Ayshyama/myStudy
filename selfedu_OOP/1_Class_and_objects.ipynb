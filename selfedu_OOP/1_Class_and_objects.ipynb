{
 "cells": [
  {
   "cell_type": "code",
   "execution_count": 3,
   "metadata": {
    "ExecuteTime": {
     "end_time": "2023-10-15T19:04:03.952750400Z",
     "start_time": "2023-10-15T19:04:03.942986Z"
    }
   },
   "outputs": [
    {
     "name": "stdout",
     "output_type": "stream",
     "text": [
      "black\n"
     ]
    }
   ],
   "source": [
    "class Point:\n",
    "    color = 'red'\n",
    "    circle = 2\n",
    "\n",
    "\n",
    "Point.color = 'black'\n",
    "\n",
    "print(Point.color)"
   ]
  },
  {
   "cell_type": "code",
   "execution_count": 4,
   "outputs": [],
   "source": [
    "point = Point()"
   ],
   "metadata": {
    "collapsed": false,
    "ExecuteTime": {
     "end_time": "2023-10-15T19:04:05.138767900Z",
     "start_time": "2023-10-15T19:04:05.130259500Z"
    }
   }
  },
  {
   "cell_type": "code",
   "execution_count": 13,
   "outputs": [
    {
     "name": "stdout",
     "output_type": "stream",
     "text": [
      "2\n",
      "2\n"
     ]
    }
   ],
   "source": [
    "print(Point.__dict__['circle'])\n",
    "print(getattr(Point, 'circle', 'not found'))"
   ],
   "metadata": {
    "collapsed": false,
    "ExecuteTime": {
     "end_time": "2023-10-15T19:06:31.099927700Z",
     "start_time": "2023-10-15T19:06:31.097419900Z"
    }
   }
  },
  {
   "cell_type": "code",
   "execution_count": 23,
   "outputs": [
    {
     "name": "stdout",
     "output_type": "stream",
     "text": [
      "start_pt end_pt\n"
     ]
    }
   ],
   "source": [
    "class Figure:\n",
    "    type_fig = 'ellipse'\n",
    "    color = 'red'\n",
    "\n",
    "fig1 = Figure()\n",
    "fig1.start_pt = (10, 5)\n",
    "fig1.end_pt = (100, 20)\n",
    "fig1.color = 'blue'\n",
    "\n",
    "del fig1.color\n",
    "print(*fig1.__dict__.keys())"
   ],
   "metadata": {
    "collapsed": false,
    "ExecuteTime": {
     "end_time": "2023-10-15T19:27:29.952481900Z",
     "start_time": "2023-10-15T19:27:29.946194800Z"
    }
   }
  },
  {
   "cell_type": "code",
   "execution_count": 37,
   "outputs": [
    {
     "name": "stdout",
     "output_type": "stream",
     "text": [
      "yes\n"
     ]
    }
   ],
   "source": [
    "class Person:\n",
    "    name = 'Сергей Балакирев'\n",
    "    job = \"Программист\"\n",
    "    city = \"Москва\"\n",
    "\n",
    "p1 = Person()\n",
    "\n",
    "if 'job' in Person.__dict__:\n",
    "    print('yes')\n",
    "else:\n",
    "    print('no')\n",
    "\n"
   ],
   "metadata": {
    "collapsed": false,
    "ExecuteTime": {
     "end_time": "2023-10-15T19:31:38.792812400Z",
     "start_time": "2023-10-15T19:31:38.772934800Z"
    }
   }
  },
  {
   "cell_type": "code",
   "execution_count": 38,
   "outputs": [
    {
     "name": "stdout",
     "output_type": "stream",
     "text": [
      "Воспроизведение filemedia1\n",
      "Воспроизведение filemedia2\n"
     ]
    }
   ],
   "source": [
    "class MediaPlayer:\n",
    "    def open(self, file):\n",
    "        self.filename = file\n",
    "\n",
    "    def play(self):\n",
    "        return print(f'Воспроизведение {self.filename}')\n",
    "\n",
    "\n",
    "media1 = MediaPlayer()\n",
    "media2 = MediaPlayer()\n",
    "\n",
    "media1.open(\"filemedia1\")\n",
    "media2.open(\"filemedia2\")\n",
    "\n",
    "media1.play()\n",
    "media2.play()"
   ],
   "metadata": {
    "collapsed": false,
    "ExecuteTime": {
     "end_time": "2023-10-15T19:44:08.410734500Z",
     "start_time": "2023-10-15T19:44:08.403751800Z"
    }
   }
  },
  {
   "cell_type": "code",
   "execution_count": 21,
   "outputs": [],
   "source": [],
   "metadata": {
    "collapsed": false,
    "ExecuteTime": {
     "end_time": "2023-10-15T19:12:56.572916800Z",
     "start_time": "2023-10-15T19:12:56.569409900Z"
    }
   }
  },
  {
   "cell_type": "code",
   "execution_count": null,
   "outputs": [],
   "source": [],
   "metadata": {
    "collapsed": false
   }
  }
 ],
 "metadata": {
  "kernelspec": {
   "display_name": "Python 3",
   "language": "python",
   "name": "python3"
  },
  "language_info": {
   "codemirror_mode": {
    "name": "ipython",
    "version": 3
   },
   "file_extension": ".py",
   "mimetype": "text/x-python",
   "name": "python",
   "nbconvert_exporter": "python",
   "pygments_lexer": "ipython3",
   "version": "3.11.2"
  },
  "orig_nbformat": 4
 },
 "nbformat": 4,
 "nbformat_minor": 2
}
