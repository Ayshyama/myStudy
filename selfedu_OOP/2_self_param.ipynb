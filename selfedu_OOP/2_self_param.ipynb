{
 "cells": [
  {
   "cell_type": "code",
   "execution_count": 7,
   "metadata": {
    "ExecuteTime": {
     "end_time": "2023-06-29T12:04:20.093939200Z",
     "start_time": "2023-06-29T12:04:20.073625200Z"
    }
   },
   "outputs": [
    {
     "name": "stdout",
     "output_type": "stream",
     "text": [
      "<bound method Point.get_coords of <__main__.Point object at 0x000001D849B8D510>>\n"
     ]
    },
    {
     "data": {
      "text/plain": "(1, 2)"
     },
     "execution_count": 7,
     "metadata": {},
     "output_type": "execute_result"
    }
   ],
   "source": [
    "class Point:\n",
    "    color = 'red'\n",
    "    circle = 2\n",
    "\n",
    "    def set_coords(self, x, y):\n",
    "        self.x = x\n",
    "        self.y = y\n",
    "\n",
    "    def get_coords(self):\n",
    "        return (self.x, self.y)\n",
    "\n",
    "\n",
    "pt = Point()\n",
    "pt.set_coords(1, 2)\n",
    "# print(pt.__dict__)\n",
    "# print(pt.get_coords())\n",
    "\n",
    "f = getattr(pt, 'get_coords')\n",
    "print(f)\n",
    "f()"
   ]
  },
  {
   "cell_type": "code",
   "execution_count": 10,
   "metadata": {
    "ExecuteTime": {
     "end_time": "2023-06-29T12:19:08.333500100Z",
     "start_time": "2023-06-29T12:19:08.319144200Z"
    }
   },
   "outputs": [
    {
     "name": "stdout",
     "output_type": "stream",
     "text": [
      "Воспроизведение filemedia1\n",
      "Воспроизведение filemedia2\n"
     ]
    }
   ],
   "source": [
    "class MediaPlayer:\n",
    "    def open(self, file):\n",
    "        self.filename = file\n",
    "\n",
    "    def play(self):\n",
    "        print(f'Воспроизведение {self.filename}')\n",
    "\n",
    "\n",
    "media1 = MediaPlayer()\n",
    "media2 = MediaPlayer()\n",
    "\n",
    "media1.open(\"filemedia1\")\n",
    "media2.open(\"filemedia2\")\n",
    "\n",
    "media1.play()\n",
    "media2.play()\n",
    "\n"
   ]
  },
  {
   "cell_type": "code",
   "execution_count": 18,
   "outputs": [],
   "source": [
    "class Graph:\n",
    "    LIMIT_Y = [0, 10]\n",
    "\n",
    "    def set_data(self, data):\n",
    "        self.data = data\n",
    "\n",
    "    def draw(self):\n",
    "        # print(' '.join(map(str, filter(lambda x: self.LIMIT_Y[0] <= x <= self.LIMIT_Y[1], self.data))))\n",
    "        a, b = self.LIMIT_Y\n",
    "        print(lambda x: a <= x <= b, self.data)\n",
    "\n",
    "        graph_1 = Graph()\n",
    "        graph_1.set_data([10, -5, 100, 20, 0, 80, 45, 2, 5, 7])\n",
    "        graph_1.draw()"
   ],
   "metadata": {
    "collapsed": false,
    "ExecuteTime": {
     "end_time": "2023-06-29T13:44:09.336528300Z",
     "start_time": "2023-06-29T13:44:09.333356900Z"
    }
   }
  },
  {
   "cell_type": "code",
   "execution_count": 27,
   "outputs": [],
   "source": [
    "import sys\n",
    "\n",
    "\n",
    "class StreamData:\n",
    "    def create(self, fields, lst_values):\n",
    "        if len(fields) != len(lst_values):\n",
    "            return False\n",
    "\n",
    "        for i, key in enumerate(fields):\n",
    "            setattr(self, key, lst_values[i])\n",
    "\n",
    "        return True\n",
    "\n",
    "\n",
    "class StreamReader:\n",
    "    FIELDS = ('id', 'title', 'pages')\n",
    "\n",
    "    def readlines(self):\n",
    "        # lst_in = list(map(str.strip, sys.stdin.readlines()))  # считывание списка строк из входного потока\n",
    "        lst_in = [\"10\", \"Питон\", \"512\"]\n",
    "        sd = StreamData()\n",
    "        res = sd.create(self.FIELDS, lst_in)\n",
    "        return sd, res\n",
    "\n",
    "\n",
    "sr = StreamReader()\n",
    "data, result = sr.readlines()\n"
   ],
   "metadata": {
    "collapsed": false
   }
  },
  {
   "cell_type": "code",
   "execution_count": null,
   "outputs": [],
   "source": [],
   "metadata": {
    "collapsed": false
   }
  }
 ],
 "metadata": {
  "kernelspec": {
   "display_name": "Python 3",
   "language": "python",
   "name": "python3"
  },
  "language_info": {
   "codemirror_mode": {
    "name": "ipython",
    "version": 3
   },
   "file_extension": ".py",
   "mimetype": "text/x-python",
   "name": "python",
   "nbconvert_exporter": "python",
   "pygments_lexer": "ipython3",
   "version": "3.11.2"
  },
  "orig_nbformat": 4
 },
 "nbformat": 4,
 "nbformat_minor": 2
}
