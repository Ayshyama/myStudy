{
 "cells": [
  {
   "cell_type": "code",
   "execution_count": 7,
   "metadata": {
    "ExecuteTime": {
     "end_time": "2023-06-29T12:04:20.093939200Z",
     "start_time": "2023-06-29T12:04:20.073625200Z"
    }
   },
   "outputs": [
    {
     "name": "stdout",
     "output_type": "stream",
     "text": [
      "<bound method Point.get_coords of <__main__.Point object at 0x000001D849B8D510>>\n"
     ]
    },
    {
     "data": {
      "text/plain": [
       "(1, 2)"
      ]
     },
     "execution_count": 7,
     "metadata": {},
     "output_type": "execute_result"
    }
   ],
   "source": [
    "class Point:\n",
    "    color = 'red'\n",
    "    circle = 2\n",
    "\n",
    "    def set_coords(self, x, y):\n",
    "        self.x = x\n",
    "        self.y = y\n",
    "\n",
    "    def get_coords(self):\n",
    "        return (self.x, self.y)\n",
    "\n",
    "\n",
    "pt = Point()\n",
    "pt.set_coords(1, 2)\n",
    "# print(pt.__dict__)\n",
    "# print(pt.get_coords())\n",
    "\n",
    "f = getattr(pt, 'get_coords')\n",
    "print(f)\n",
    "f()"
   ]
  },
  {
   "cell_type": "code",
   "execution_count": 10,
   "metadata": {
    "ExecuteTime": {
     "end_time": "2023-06-29T12:19:08.333500100Z",
     "start_time": "2023-06-29T12:19:08.319144200Z"
    }
   },
   "outputs": [
    {
     "name": "stdout",
     "output_type": "stream",
     "text": [
      "Воспроизведение filemedia1\n",
      "Воспроизведение filemedia2\n"
     ]
    }
   ],
   "source": [
    "class MediaPlayer:\n",
    "    def open(self, file):\n",
    "        self.filename = file\n",
    "\n",
    "    def play(self):\n",
    "        print(f'Воспроизведение {self.filename}')\n",
    "\n",
    "\n",
    "media1 = MediaPlayer()\n",
    "media2 = MediaPlayer()\n",
    "\n",
    "media1.open(\"filemedia1\")\n",
    "media2.open(\"filemedia2\")\n",
    "\n",
    "media1.play()\n",
    "media2.play()\n",
    "\n"
   ]
  },
  {
   "cell_type": "code",
   "execution_count": 18,
   "metadata": {
    "ExecuteTime": {
     "end_time": "2023-06-29T13:44:09.336528300Z",
     "start_time": "2023-06-29T13:44:09.333356900Z"
    },
    "collapsed": false
   },
   "outputs": [],
   "source": [
    "class Graph:\n",
    "    LIMIT_Y = [0, 10]\n",
    "\n",
    "    def set_data(self, data):\n",
    "        self.data = data\n",
    "\n",
    "    def draw(self):\n",
    "        # print(' '.join(map(str, filter(lambda x: self.LIMIT_Y[0] <= x <= self.LIMIT_Y[1], self.data))))\n",
    "        a, b = self.LIMIT_Y\n",
    "        print(lambda x: a <= x <= b, self.data)\n",
    "\n",
    "        graph_1 = Graph()\n",
    "        graph_1.set_data([10, -5, 100, 20, 0, 80, 45, 2, 5, 7])\n",
    "        graph_1.draw()"
   ]
  },
  {
   "cell_type": "code",
   "execution_count": 1,
   "metadata": {
    "collapsed": false
   },
   "outputs": [],
   "source": [
    "import sys\n",
    "\n",
    "\n",
    "class StreamData:\n",
    "    def create(self, fields, lst_values):\n",
    "        if len(fields) != len(lst_values):\n",
    "            return False\n",
    "\n",
    "        for i, key in enumerate(fields):\n",
    "            setattr(self, key, lst_values[i])\n",
    "\n",
    "        return True\n",
    "\n",
    "\n",
    "class StreamReader:\n",
    "    FIELDS = ('id', 'title', 'pages')\n",
    "\n",
    "    def readlines(self):\n",
    "        # lst_in = list(map(str.strip, sys.stdin.readlines()))  # считывание списка строк из входного потока\n",
    "        lst_in = [\"10\", \"Питон\", \"512\"]\n",
    "        sd = StreamData()\n",
    "        res = sd.create(self.FIELDS, lst_in)\n",
    "        return sd, res\n",
    "\n",
    "\n",
    "sr = StreamReader()\n",
    "data, result = sr.readlines()\n"
   ]
  },
  {
   "cell_type": "code",
   "execution_count": 25,
   "metadata": {
    "collapsed": false
   },
   "outputs": [
    {
     "name": "stdout",
     "output_type": "stream",
     "text": [
      "{'id': '1', 'name': 'Сергей', 'age': '35', 'salary': '120000'}\n",
      "{'id': '2', 'name': 'Федор', 'age': '23', 'salary': '22222'}\n",
      "{'id': '3', 'name': 'Иван', 'age': '13', 'salary': '1200'}\n"
     ]
    }
   ],
   "source": [
    "### Feat 9 \n",
    "import sys\n",
    "\n",
    "lst_in = [\"1 Сергей 35 120000\", \"2 Федор 23 22222\", \"3 Иван 13 1200\"]\n",
    "\n",
    "# lst_in = list(map(str.strip, sys.stdin.readlines()))  # считывание списка строк из входного потока\n",
    "\n",
    "class DataBase:\n",
    "    lst_data = []\n",
    "    FIELDS = ('id', 'name', 'age', 'salary')\n",
    "\n",
    "    def insert(self, data):\n",
    "        for person in data:\n",
    "            self.lst_data += [dict(zip(self.FIELDS, person.split()))]\n",
    "    \n",
    "    def select(self, a, b):\n",
    "        return self.lst_data[a: b + 1]\n",
    "\n",
    "\n",
    "\n",
    "db = DataBase()\n",
    "db.insert(lst_in)\n",
    "\n",
    "result = db.select(0, 2)\n",
    "\n",
    "for item in result:\n",
    "    print(item)"
   ]
  },
  {
   "cell_type": "code",
   "execution_count": 29,
   "metadata": {},
   "outputs": [
    {
     "name": "stdout",
     "output_type": "stream",
     "text": [
      "gehen fahren laufen\n"
     ]
    }
   ],
   "source": [
    "## Feat 10. A Translator class is given (for translating from English into German)\n",
    "\n",
    "class Translator:\n",
    "    def add(self, eng, de):\n",
    "        if 'tr' not in self.__dict__:\n",
    "            self.tr = {}\n",
    "\n",
    "        self.tr.setdefault(eng, [])\n",
    "        \n",
    "        if de not in self.tr[eng]:\n",
    "            self.tr[eng].append(de)\n",
    "\n",
    "    def remove(self, eng):\n",
    "        self.tr.pop(eng, False)\n",
    "\n",
    "    def translate(self, eng):\n",
    "        return self.tr[eng]\n",
    "\n",
    "tr = Translator()\n",
    "tr.add('tree', 'Baum')\n",
    "tr.add('car', 'Auto')\n",
    "tr.add('car', 'Wagen')\n",
    "tr.add('leaf', 'Blatter')\n",
    "tr.add('river', 'Fluss')\n",
    "tr.add('go', 'gehen')\n",
    "tr.add('go', 'fahren')\n",
    "tr.add('go', 'laufen')\n",
    "tr.add('milk', 'Milch')\n",
    "\n",
    "tr.remove('car')\n",
    "print(*tr.translate('go'))\n"
   ]
  }
 ],
 "metadata": {
  "kernelspec": {
   "display_name": "Python 3",
   "language": "python",
   "name": "python3"
  },
  "language_info": {
   "codemirror_mode": {
    "name": "ipython",
    "version": 3
   },
   "file_extension": ".py",
   "mimetype": "text/x-python",
   "name": "python",
   "nbconvert_exporter": "python",
   "pygments_lexer": "ipython3",
   "version": "3.11.2"
  },
  "orig_nbformat": 4
 },
 "nbformat": 4,
 "nbformat_minor": 2
}
