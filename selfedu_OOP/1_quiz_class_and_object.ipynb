{
 "cells": [
  {
   "attachments": {},
   "cell_type": "markdown",
   "metadata": {},
   "source": [
    "#### Feat 1. Mark all correct, from the point of view of the PEP8 standard, class names.\n",
    "Select all correct options from the list\n",
    "\n",
    "\n",
    "- data_base\n",
    "- dataBase\n",
    "- Nicolas_Cage\n",
    "- Data123            **correct**\n",
    "- DataBase           **correct**\n",
    "- NicolasCage        **correct**"
   ]
  },
  {
   "attachments": {},
   "cell_type": "markdown",
   "metadata": {},
   "source": [
    "#### Feat 2. Choose statements that are true for Python language classes.\n",
    "Select all correct options from the list\n",
    "\n",
    "- The class describes a template for the formation of its objects.                    \n",
    "- A class forms a namespace for the variables and methods declared within it.         \n",
    "- Each class (declared in the program) can be thought of as a new (custom) data type. \n",
    "- Classes are derived from their objects."
   ]
  },
  {
   "attachments": {},
   "cell_type": "markdown",
   "metadata": {},
   "source": [
    "#### Feat 3. Declare a class named DataBase that would store the following information:\n",
    "\n",
    "source: 1\n",
    "title: \"Class and Objects\"\n",
    "language: \"Python\"\n",
    "views: 14356\n",
    "comments: 12\n",
    "\n",
    "- Use the same variable (class attribute) names (pk, title, language, views, and comments) with the appropriate values."
   ]
  },
  {
   "cell_type": "code",
   "execution_count": 3,
   "metadata": {},
   "outputs": [],
   "source": [
    "class DataBase:\n",
    "    source = 1\n",
    "    title = \"Class and Objects\"\n",
    "    author = \"Python\"\n",
    "    views = 14356\n",
    "    comments = 12"
   ]
  },
  {
   "attachments": {},
   "cell_type": "markdown",
   "metadata": {},
   "source": [
    "#### Feat 4. Declare a class named Goods and write the following attributes (variables) in it:\n",
    "\n",
    "title: \"Ice-Cream\"\n",
    "weight: 154\n",
    "tp: \"Food\"\n",
    "price: 1024\n",
    "\n",
    "- Then, after declaring the class, change its price attribute to 2048 and add another attribute:\n",
    "\n",
    "inflation: 100"
   ]
  },
  {
   "cell_type": "code",
   "execution_count": 2,
   "metadata": {},
   "outputs": [],
   "source": [
    "class Goods:\n",
    "    title = \"Ice-Cream\"\n",
    "    weight = 154\n",
    "    tp = \"Food\"\n",
    "    price = 1024\n",
    "    \n",
    "Goods.price = 2048\n",
    "setattr(Goods, 'inflation', 100)"
   ]
  },
  {
   "attachments": {},
   "cell_type": "markdown",
   "metadata": {},
   "source": [
    "#### Feat 5. Declare an empty class named Car. Use the setattr() function to add attributes to this class:\n",
    "\n",
    "model: \"Toyota\"\n",
    "color: \"pink\"\n",
    "number: \"KA555K77\"\n",
    "\n",
    "- Display the value of the color attribute using the __dict__ dictionary of the Car class."
   ]
  },
  {
   "cell_type": "code",
   "execution_count": 1,
   "metadata": {},
   "outputs": [
    {
     "name": "stdout",
     "output_type": "stream",
     "text": [
      "pink\n"
     ]
    }
   ],
   "source": [
    "class Car:\n",
    "    pass\n",
    "\n",
    "setattr(Car, 'model', \"Toyota\")\n",
    "setattr(Car, 'color', \"pink\")\n",
    "setattr(Car, 'number', \"KA555K77\")\n",
    "\n",
    "print(Car.__dict__['color'])"
   ]
  },
  {
   "attachments": {},
   "cell_type": "markdown",
   "metadata": {},
   "source": [
    "#### Feat 6. Declare a class named Notes and define the following attributes in it:\n",
    "\n",
    "ID: 1005435\n",
    "title: \"Joke\"\n",
    "author: \"J.S. Bach\"\n",
    "pages: 2\n",
    "\n",
    "- Then, use the getattr() function to read and display the value of the author attribute."
   ]
  },
  {
   "cell_type": "code",
   "execution_count": 7,
   "metadata": {},
   "outputs": [
    {
     "name": "stdout",
     "output_type": "stream",
     "text": [
      "J.S. Bach\n"
     ]
    }
   ],
   "source": [
    "class Notes:\n",
    "    uid = 1005435\n",
    "    title = \"Joke\"\n",
    "    author = \"J.S. Bach\"\n",
    "    pages = 2\n",
    "\n",
    "print(getattr(Notes, 'author'))"
   ]
  },
  {
   "attachments": {},
   "cell_type": "markdown",
   "metadata": {},
   "source": [
    "#### Feat 7. Declare a class named Dictionary and define the following attributes in it:\n",
    "\n",
    "de: \"Riesenschlange\"\n",
    "eng: \"Python\"\n",
    "\n",
    "- Then, using the getattr() function, read and display the value of the de_word attribute. If there is no such attribute in the class, then the getattr() function must return the boolean value False."
   ]
  },
  {
   "cell_type": "code",
   "execution_count": null,
   "metadata": {},
   "outputs": [],
   "source": [
    "class Dictionary:\n",
    "    rus = 'Riesenschlange'\n",
    "    eng = 'Python'\n",
    "    \n",
    "print(getattr(Dictionary, 'de_word', False))"
   ]
  },
  {
   "attachments": {},
   "cell_type": "markdown",
   "metadata": {},
   "source": [
    "#### Feat 8. Declare a class named TravelBlog and declare an attribute in it:\n",
    "\n",
    "total_blogs: 0\n",
    "\n",
    "- Create an instance of this class named tb1, form two local properties in it:\n",
    "\n",
    "name: 'France'\n",
    "days: 6\n",
    "\n",
    "- Increase the value of the total_blogs attribute of the TravelBlog class by one.\n",
    "- Create another instance of the TravelBlog class named tb2, create two local properties in it:\n",
    "\n",
    "name: 'Italy'\n",
    "days: 5\n",
    "\n",
    "- Increase the value of the total_blogs attribute of the TravelBlog class by one more.\n",
    "- P.S. You don't need to display anything on the screen."
   ]
  },
  {
   "cell_type": "code",
   "execution_count": 9,
   "metadata": {},
   "outputs": [],
   "source": [
    "class TravelBlog:\n",
    "    total_blogs = 0\n",
    "    \n",
    "tb1 = TravelBlog()\n",
    "\n",
    "tb1.name = 'France'\n",
    "tb1.days = 6\n",
    "\n",
    "TravelBlog.total_blogs += 1\n",
    "\n",
    "tb2 = TravelBlog()\n",
    "\n",
    "tb2.name = 'Italy'\n",
    "tb2.days = 5\n",
    "\n",
    "TravelBlog.total_blogs += 1"
   ]
  },
  {
   "attachments": {},
   "cell_type": "markdown",
   "metadata": {},
   "source": [
    "#### Feat 9. Declare a class named Figure with two attributes:\n",
    "\n",
    "type_fig: 'ellipse'\n",
    "color: 'red'\n",
    "\n",
    "- Create an instance named fig1 of this class and add the following local attributes to it:\n",
    "\n",
    "start_pt: (10, 5)\n",
    "end_pt: (100, 20)\n",
    "color: 'blue'\n",
    "\n",
    "- Remove the color property from the class instance and display a list of all local properties (without values) of the fig1 object on one line, separated by a space, in the order specified in the assignment."
   ]
  },
  {
   "cell_type": "code",
   "execution_count": 8,
   "metadata": {},
   "outputs": [
    {
     "name": "stdout",
     "output_type": "stream",
     "text": [
      "start_pt end_pt\n"
     ]
    }
   ],
   "source": [
    "class Figure:\n",
    "    type_fig = 'ellipse'\n",
    "    color = 'red'\n",
    "    \n",
    "fig1 = Figure()\n",
    "fig1.start_pt = (10, 5)\n",
    "fig1.end_pt = (100, 20)\n",
    "fig1.color = 'blue'\n",
    "\n",
    "del fig1.color\n",
    "print(*fig1.__dict__.keys())"
   ]
  },
  {
   "attachments": {},
   "cell_type": "markdown",
   "metadata": {},
   "source": [
    "#### Feat 10. Declare a class named Person and attributes:\n",
    "\n",
    "name: 'Student Name'\n",
    "job: 'Programmer'\n",
    "city: 'Berlin'\n",
    "\n",
    "- Create an instance p1 of this class and check if it has a local property named job. Print True if it is present in the p1 object and False if it is absent."
   ]
  },
  {
   "cell_type": "code",
   "execution_count": null,
   "metadata": {},
   "outputs": [],
   "source": [
    "class Person:\n",
    "    name = 'Student Name' \n",
    "    job = \"Programmer\"\n",
    "    city = \"Berlin\"\n",
    "    \n",
    "p1 = Person()\n",
    "\n",
    "print(hasattr(p1.__dict__, 'job'))\n",
    "    \n"
   ]
  },
  {
   "attachments": {},
   "cell_type": "markdown",
   "metadata": {},
   "source": [
    "#### Feat 11. Choose the correct attribute value that will be displayed on the screen when executing the following program:\n",
    "Select one option from the list\n",
    "\n",
    "class Figures:\n",
    "    type = 'ellipse'\n",
    "    color = 'red'\n",
    "\n",
    "\n",
    "fig1 = Figures()\n",
    "print(fig1.color)\n",
    "\n",
    "\n",
    "\n",
    "- red\n",
    "- Will give an error, because color property is not present in fig1 object\n",
    "- None\n",
    "- False\n"
   ]
  },
  {
   "attachments": {},
   "cell_type": "markdown",
   "metadata": {},
   "source": [
    "#### Feat 12. Establish correspondences between functions and their descriptions.\n",
    "\n",
    "- setattr()\n",
    "- getattr()\n",
    "- hasattr()\n",
    "- delattr()\n",
    "\n",
    "- allows you to get the value of the specified attribute from the class or object\n",
    "- allows you to create a new attribute or set the value of an existing one in a class or object\n",
    "- allows you to check for the presence of an attribute in a class or object\n",
    "- allows you to remove an attribute in a class or object"
   ]
  },
  {
   "attachments": {},
   "cell_type": "markdown",
   "metadata": {},
   "source": [
    "#### Feat 13. Choose the right ways to remove the tp attribute from the Point class.\n",
    "Select all correct options from the list\n",
    "\n",
    "\n",
    "- del tp of Point\n",
    "- delattr(Point, 'tp')\n",
    "- delattr(Point, tp)\n",
    "- Point.tp = 0\n",
    "- del Point.tp\n",
    "- Point.tp = None\n",
    "- delattr('Point', 'tp')\n",
    "- del Point['tp']"
   ]
  },
  {
   "attachments": {},
   "cell_type": "markdown",
   "metadata": {},
   "source": [
    "#### Feat 14. The following class is declared in the program:\n",
    "\n",
    "class Magazine:\n",
    "    name = 'Science and Life'\n",
    "    price = 1101\n",
    "\n",
    "- What happens when you run the command:\n",
    "\n",
    "print(getattr(Magazine, 'id'))\n",
    "\n",
    "- Will output False\n",
    "- Error because the id attribute is missing from the Magazine class\n",
    "- A new attribute will be created with the name id and the value None\n",
    "- Will output None"
   ]
  }
 ],
 "metadata": {
  "kernelspec": {
   "display_name": "Python 3",
   "language": "python",
   "name": "python3"
  },
  "language_info": {
   "codemirror_mode": {
    "name": "ipython",
    "version": 3
   },
   "file_extension": ".py",
   "mimetype": "text/x-python",
   "name": "python",
   "nbconvert_exporter": "python",
   "pygments_lexer": "ipython3",
   "version": "3.11.2"
  },
  "orig_nbformat": 4
 },
 "nbformat": 4,
 "nbformat_minor": 2
}
