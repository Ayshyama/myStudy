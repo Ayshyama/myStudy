{
 "cells": [
  {
   "attachments": {},
   "cell_type": "markdown",
   "metadata": {},
   "source": [
    "- *args - arguments\n",
    "- **kwargs - keyword-arguments"
   ]
  },
  {
   "cell_type": "code",
   "execution_count": 13,
   "metadata": {},
   "outputs": [
    {
     "data": {
      "text/plain": [
       "100.0"
      ]
     },
     "execution_count": 13,
     "metadata": {},
     "output_type": "execute_result"
    }
   ],
   "source": [
    "def ten_percent_of_product(x, y, z):\n",
    "    return (x * y * z) * 0.1\n",
    "\n",
    "\n",
    "ten_percent_of_product(10, 20, 5)"
   ]
  },
  {
   "cell_type": "code",
   "execution_count": 22,
   "metadata": {},
   "outputs": [
    {
     "name": "stdout",
     "output_type": "stream",
     "text": [
      "(10, 20, 5, 500, 501.5, 'stringg')\n"
     ]
    }
   ],
   "source": [
    "def ten_percent_of_product(*args):\n",
    "    print(args)\n",
    "\n",
    "\n",
    "ten_percent_of_product(10, 20, 5, 500, 501.5, 'stringg') # return tuple"
   ]
  },
  {
   "cell_type": "code",
   "execution_count": 23,
   "metadata": {},
   "outputs": [
    {
     "name": "stdout",
     "output_type": "stream",
     "text": [
      "{'first': 1, 'second': 2, 'third': 3}\n"
     ]
    }
   ],
   "source": [
    "def func_with_kwargs(**kwargs):\n",
    "    print(kwargs)\n",
    "\n",
    "\n",
    "func_with_kwargs(first=1, second=2, third=3)              # return dictionary"
   ]
  },
  {
   "cell_type": "code",
   "execution_count": 16,
   "metadata": {},
   "outputs": [
    {
     "data": {
      "text/plain": [
       "5000.0"
      ]
     },
     "execution_count": 16,
     "metadata": {},
     "output_type": "execute_result"
    }
   ],
   "source": [
    "# USE *ARGS\n",
    "\n",
    "def ten_percent_of_product(*args):\n",
    "    product = 1\n",
    "    for number in args:\n",
    "        product = product * number\n",
    "    return product * 0.1\n",
    "\n",
    "\n",
    "ten_percent_of_product(20, 5, 10, 10, 5)"
   ]
  },
  {
   "cell_type": "code",
   "execution_count": 17,
   "metadata": {},
   "outputs": [
    {
     "data": {
      "text/plain": [
       "5000.0"
      ]
     },
     "execution_count": 17,
     "metadata": {},
     "output_type": "execute_result"
    }
   ],
   "source": [
    "# USE *ARGS\n",
    "\n",
    "def ten_percent_of_product(percent, *args):\n",
    "    product = 1\n",
    "    for number in args:\n",
    "        product = product * number\n",
    "    return product / 100  * percent\n",
    "\n",
    "\n",
    "ten_percent_of_product(10, 20, 5, 10, 10, 5) # add 10 percent in the beginning (positional argument)"
   ]
  },
  {
   "cell_type": "code",
   "execution_count": 70,
   "metadata": {},
   "outputs": [
    {
     "name": "stdout",
     "output_type": "stream",
     "text": [
      "Hello! Nice to meet you, Jack\n",
      "Hello! What is your name?\n"
     ]
    }
   ],
   "source": [
    "# USE **KWARGS\n",
    "\n",
    "def hello_with_kwargs(**kwargs):\n",
    "    if 'name' in kwargs:\n",
    "        print('Hello! Nice to meet you, {}'.format(kwargs['name']))\n",
    "    else:\n",
    "        print('Hello! What is your name?')\n",
    "\n",
    "    \n",
    "hello_with_kwargs(gender='male', age=24, name='Jack')\n",
    "hello_with_kwargs(gender='male', age=24)\n"
   ]
  },
  {
   "cell_type": "code",
   "execution_count": 80,
   "metadata": {},
   "outputs": [
    {
     "name": "stdout",
     "output_type": "stream",
     "text": [
      "Good morning! Nice to meet you, Jack\n"
     ]
    }
   ],
   "source": [
    "# USE **KWARGS AND POSITIONAL ARGUMENT (need to be on 1 place)\n",
    "\n",
    "def hello_with_greeting_kwargs(hello, **kwargs):\n",
    "    if 'name' in kwargs:\n",
    "        print(f'{hello}! Nice to meet you, {kwargs[\"name\"]}')\n",
    "\n",
    "    else:\n",
    "        print(f'{hello}! What is your name?')\n",
    "\n",
    "    \n",
    "hello_with_greeting_kwargs('Good morning', gender='male', age=24, name='Jack')\n",
    "\n",
    "# hello_with_greeting_kwargs(gender='male', age=24)  # will raise error need 1 positional argument"
   ]
  },
  {
   "cell_type": "code",
   "execution_count": 89,
   "metadata": {},
   "outputs": [
    {
     "name": "stdout",
     "output_type": "stream",
     "text": [
      "('one', 'two')\n",
      "{'drink': 'coffee', 'food': 'sandwich'}\n",
      "\n",
      "I would like one sandwich\n"
     ]
    }
   ],
   "source": [
    "# USE *ARGS AND **KWARGS TOGETHER\n",
    "\n",
    "def func_with_args_and_kwargs(*args, **kwargs):\n",
    "    print(args)\n",
    "    print(kwargs)\n",
    "\n",
    "    print(f'\\nI would like', args[0], kwargs['food'])\n",
    "\n",
    "\n",
    "func_with_args_and_kwargs('one', 'two', drink='coffee', food='sandwich')"
   ]
  },
  {
   "attachments": {},
   "cell_type": "markdown",
   "metadata": {},
   "source": [
    "# Assignment\n",
    "\n",
    "- Create a function is_cat_here() that takes any number of arguments and checks if the string 'cat' is among them. The function should return True if there is such a parameter and False otherwise. The letters in the string 'cat' can be either large or small\n",
    "\n",
    "- Create a function is_item_here(item, *args) that checks if item is in args. The function should return True if there is such a parameter and False otherwise.\n",
    "\n",
    "- Create a function your_favorite_color() with a positional parameter my_color and parameters **kwargs that will print 'My favorite color is (value my_color), what is your favorite color?' if there is no color key in the kwargs parameters, and 'My favorite color is (the value of my_color), but (the value of the color key) is also pretty good!', if the color key is present in the kwargs parameters"
   ]
  },
  {
   "cell_type": "code",
   "execution_count": 151,
   "metadata": {},
   "outputs": [
    {
     "name": "stdout",
     "output_type": "stream",
     "text": [
      "True\n",
      "True\n",
      "True\n",
      "True\n",
      "True\n",
      "False\n"
     ]
    }
   ],
   "source": [
    "def is_cat_here(*args):\n",
    "    for arg in args:\n",
    "        if isinstance(arg, str) and 'cat' in arg.lower():\n",
    "            return True\n",
    "    else:\n",
    "        return False\n",
    "    \n",
    "\n",
    "# one line\n",
    "def is_cat_here(*args):\n",
    "    return any(isinstance(arg, str) and 'cat' in arg.lower() for arg in args)\n",
    "\n",
    "\n",
    "\n",
    "print(is_cat_here('I have a cat', 'Look at that Cat!'))  # Output: True\n",
    "print(is_cat_here('I love dogs', 'There is no cat here'))  # Output: False\n",
    "print(is_cat_here('The CAT is hiding'))  # Output: True\n",
    "print(is_cat_here('I', 'am', 'a', 'Cat', 'lover'))  # Output: True\n",
    "print(is_cat_here(42, ['cat'], 'CAT', 'Dog'))  # Output: True                 for this one we need 'isinstance'\n",
    "print(is_cat_here('Rat', 'Bat', 'Mat'))  # Output: False"
   ]
  },
  {
   "cell_type": "code",
   "execution_count": 149,
   "metadata": {},
   "outputs": [
    {
     "name": "stdout",
     "output_type": "stream",
     "text": [
      "True\n",
      "False\n",
      "True\n",
      "False\n",
      "True\n"
     ]
    }
   ],
   "source": [
    "def is_item_here(item, *args):\n",
    "    if item in args:\n",
    "        return True\n",
    "    return False\n",
    "\n",
    "# one line\n",
    "def is_item_here(item, *args):\n",
    "    return item in args\n",
    "\n",
    "\n",
    "print(is_item_here('cat', 'dog', 'cat', 'bird'))  # Output: True\n",
    "print(is_item_here(42, 10, 20, 30))  # Output: False\n",
    "print(is_item_here('apple', 'banana', 'grape', 'apple', 'orange'))  # Output: True\n",
    "print(is_item_here(3, 1, 2, 4, 5))  # Output: False\n",
    "print(is_item_here('car', 'bike', 'truck', 'car'))  # Output: True"
   ]
  },
  {
   "cell_type": "code",
   "execution_count": 156,
   "metadata": {},
   "outputs": [
    {
     "name": "stdout",
     "output_type": "stream",
     "text": [
      "My favorite color is blue, what is your favorite color?\n",
      "My favorite color is green, but red is also pretty good!\n",
      "My favorite color is yellow, but yellow is also pretty good!\n",
      "My favorite color is purple, but orange is also pretty good!\n"
     ]
    }
   ],
   "source": [
    "def your_favorite_color(my_color, **kwargs):\n",
    "    if 'color' in kwargs:\n",
    "        print(f\"My favorite color is {my_color}, but {kwargs['color']} is also pretty good!\")\n",
    "    else:\n",
    "        print(f\"My favorite color is {my_color}, what is your favorite color?\")\n",
    "\n",
    "\n",
    "\n",
    "your_favorite_color('blue')  # Output: My favorite color is blue, what is your favorite color?\n",
    "\n",
    "your_favorite_color('green', color='red')  # Output: My favorite color is green, but red is also pretty good!\n",
    "\n",
    "your_favorite_color('yellow', color='yellow')  # Output: My favorite color is yellow, but yellow is also pretty good!\n",
    "\n",
    "your_favorite_color('purple', color='orange')  # Output: My favorite color is purple, but orange is also pretty good!\n"
   ]
  }
 ],
 "metadata": {
  "kernelspec": {
   "display_name": "Python 3",
   "language": "python",
   "name": "python3"
  },
  "language_info": {
   "codemirror_mode": {
    "name": "ipython",
    "version": 3
   },
   "file_extension": ".py",
   "mimetype": "text/x-python",
   "name": "python",
   "nbconvert_exporter": "python",
   "pygments_lexer": "ipython3",
   "version": "3.11.2"
  },
  "orig_nbformat": 4
 },
 "nbformat": 4,
 "nbformat_minor": 2
}
