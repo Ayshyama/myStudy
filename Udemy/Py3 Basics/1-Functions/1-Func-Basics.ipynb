{
 "cells": [
  {
   "cell_type": "code",
   "execution_count": 2,
   "metadata": {},
   "outputs": [
    {
     "name": "stdout",
     "output_type": "stream",
     "text": [
      "HELLO!\n",
      "\n",
      "Help on function print_greeting in module __main__:\n",
      "\n",
      "print_greeting()\n",
      "    Print 'HELLO!' text\n",
      "    :return: None\n",
      "\n"
     ]
    }
   ],
   "source": [
    "def print_greeting():\n",
    "    \"\"\"\n",
    "    Print 'HELLO!' text\n",
    "    :return: None\n",
    "    \"\"\"\n",
    "    print('HELLO!\\n')\n",
    "\n",
    "\n",
    "# call the function\n",
    "print_greeting()\n",
    "\n",
    "# receive the description of the function\n",
    "help(print_greeting)"
   ]
  },
  {
   "cell_type": "code",
   "execution_count": 4,
   "metadata": {},
   "outputs": [
    {
     "name": "stdout",
     "output_type": "stream",
     "text": [
      "Hello JACK!\n",
      "\n",
      "Help on function print_greeting_with_name in module __main__:\n",
      "\n",
      "print_greeting_with_name(name)\n",
      "    :param: name\n",
      "    :return: None\n",
      "\n",
      "Hello JACK!\n",
      "\n",
      "None\n"
     ]
    }
   ],
   "source": [
    "def print_greeting_with_name(name):\n",
    "    \"\"\"\n",
    "    :param: name\n",
    "    :return: None\n",
    "    \"\"\"\n",
    "    print('Hello ' + name + '!\\n')\n",
    "\n",
    "\n",
    "print_greeting_with_name('JACK')\n",
    "help(print_greeting_with_name)\n",
    "\n",
    "x = print_greeting_with_name('JACK')\n",
    "print(x)                                 # returns None"
   ]
  },
  {
   "cell_type": "code",
   "execution_count": 5,
   "metadata": {},
   "outputs": [
    {
     "name": "stdout",
     "output_type": "stream",
     "text": [
      "10\n",
      "Help on function sum_of_two_numbers in module __main__:\n",
      "\n",
      "sum_of_two_numbers(a=0, b=0)\n",
      "    :param a:  The first addend\n",
      "    :param b:  The second addend\n",
      "    :return:   Sum of a and b\n",
      "\n"
     ]
    }
   ],
   "source": [
    "def sum_of_two_numbers(a=0, b=0):\n",
    "    \"\"\"\n",
    "    :param a:  The first addend\n",
    "    :param b:  The second addend\n",
    "    :return:   Sum of a and b\n",
    "    \"\"\"\n",
    "    return a + b\n",
    "\n",
    "\n",
    "s = sum_of_two_numbers(5, 5)\n",
    "print(s)\n",
    "\n",
    "help(sum_of_two_numbers)"
   ]
  },
  {
   "cell_type": "code",
   "execution_count": 9,
   "metadata": {},
   "outputs": [
    {
     "name": "stdout",
     "output_type": "stream",
     "text": [
      "True\n"
     ]
    }
   ],
   "source": [
    "def is_hello_in_text(text):\n",
    "    if 'hello' in text.lower():          # .lower() \n",
    "        return True\n",
    "    return False\n",
    "\n",
    "\n",
    "print(is_hello_in_text('Hello everyone'))"
   ]
  },
  {
   "cell_type": "code",
   "execution_count": 10,
   "metadata": {},
   "outputs": [
    {
     "name": "stdout",
     "output_type": "stream",
     "text": [
      "True\n"
     ]
    }
   ],
   "source": [
    "def is_hello_in_text(text):\n",
    "    return 'hello' in text.lower()\n",
    "\n",
    "\n",
    "print(is_hello_in_text('Hello everyone'))"
   ]
  },
  {
   "cell_type": "code",
   "execution_count": 12,
   "metadata": {},
   "outputs": [
    {
     "name": "stdout",
     "output_type": "stream",
     "text": [
      "True\n",
      "False\n"
     ]
    }
   ],
   "source": [
    "def is_string_in_text(string, text):\n",
    "    return string in text\n",
    "\n",
    "\n",
    "print(is_string_in_text('he', 'The Apple'))\n",
    "print(is_string_in_text('hey!', 'The Apple'))"
   ]
  },
  {
   "cell_type": "code",
   "execution_count": 47,
   "metadata": {},
   "outputs": [
    {
     "name": "stdout",
     "output_type": "stream",
     "text": [
      "Hello igor! You look great!\n",
      "male\n",
      "Hello Ja! I've never seen creature like you!\n",
      "alien\n"
     ]
    }
   ],
   "source": [
    "def greeting_depends_on_gender(name, gender):\n",
    "    if gender == 'male':\n",
    "        print('Hello ' + name + '! You look great!')\n",
    "        return gender\n",
    "    elif gender == 'female':\n",
    "        print('Hello ' + name + '! You look so nice!')\n",
    "        return gender\n",
    "    else:\n",
    "        print('Hello ' + name + '! I\\'ve never seen creature like you!')\n",
    "        return gender\n",
    "\n",
    "\n",
    "name = input('Enter your name: ')\n",
    "gender = input('Enter your gender: ')\n",
    "\n",
    "print(greeting_depends_on_gender(name, gender))\n",
    "\n",
    "\n",
    "x = greeting_depends_on_gender('Ja', 'alien')\n",
    "print(x)"
   ]
  },
  {
   "attachments": {},
   "cell_type": "markdown",
   "metadata": {},
   "source": [
    "### Assignment\n",
    "\n",
    "- Create cat_voice() and dog_voice() functions that print 'Meow!' and 'Woof!' respectively. Make one call to each function\n",
    "\n",
    "- Create cat_voice() and dog_voice() functions that return 'Meow!' and 'Woof!' respectively. Display 'Meow!' and 'Woof!' 2 times"
   ]
  },
  {
   "cell_type": "code",
   "execution_count": 67,
   "metadata": {},
   "outputs": [
    {
     "name": "stdout",
     "output_type": "stream",
     "text": [
      "Murloc\n",
      "I don't know this animal yet! How it sounds??\n",
      "Wrwglwrgl!!!!\n"
     ]
    }
   ],
   "source": [
    "def choose_animal_voice():\n",
    "    animal = input('Enter your animal: ')\n",
    "    print(animal.title())\n",
    "    if animal.lower() == 'cat':\n",
    "        print('Meeeooow!!')\n",
    "        print('Meeeooow!!')\n",
    "    elif animal.lower() == 'dog':\n",
    "        print('Woooff!!')\n",
    "        print('Woooff!!')\n",
    "    else:\n",
    "        print('I don\\'t know this animal yet! How it sounds??')\n",
    "        unknown = input('Please enter your enimal voice: ')\n",
    "        print(unknown.title() + '!!!!')\n",
    "\n",
    "\n",
    "choose_animal_voice()"
   ]
  },
  {
   "attachments": {},
   "cell_type": "markdown",
   "metadata": {},
   "source": [
    "- Create a get_voice() function that returns the text passed to it as a parameter with an exclamation point."
   ]
  },
  {
   "cell_type": "code",
   "execution_count": 71,
   "metadata": {},
   "outputs": [
    {
     "name": "stdout",
     "output_type": "stream",
     "text": [
      "12!\n"
     ]
    }
   ],
   "source": [
    "def get_voice(text):\n",
    "    return text + '!'\n",
    "\n",
    "message = input('Enter a message: ')\n",
    "\n",
    "print(get_voice(message))"
   ]
  },
  {
   "attachments": {},
   "cell_type": "markdown",
   "metadata": {},
   "source": [
    "- Create a function that generates a sequence of odd numbers ranging from a to b (a and b inclusive). The values a and b must be passed as parameters. The resulting sequence must be returned in the form of a list object. Solve the problem in two ways - with and without List Comprehension"
   ]
  },
  {
   "cell_type": "code",
   "execution_count": 76,
   "metadata": {},
   "outputs": [
    {
     "data": {
      "text/plain": [
       "[1, 3, 5, 7, 9, 11, 13, 15, 17, 19]"
      ]
     },
     "execution_count": 76,
     "metadata": {},
     "output_type": "execute_result"
    }
   ],
   "source": [
    "# without list comprehension\n",
    "def generate_odd_numbers(a, b):\n",
    "    odd_sequence = []\n",
    "    for num in range(a, b + 1):\n",
    "        if num % 2 != 0:\n",
    "            odd_sequence.append(num)\n",
    "    return odd_sequence\n",
    "\n",
    "\n",
    "generate_odd_numbers(0, 20)"
   ]
  },
  {
   "cell_type": "code",
   "execution_count": 75,
   "metadata": {},
   "outputs": [
    {
     "data": {
      "text/plain": [
       "[1, 3, 5, 7, 9, 11, 13, 15, 17, 19]"
      ]
     },
     "execution_count": 75,
     "metadata": {},
     "output_type": "execute_result"
    }
   ],
   "source": [
    "# with list comprehension\n",
    "def generate_odd_numbers(a, b):\n",
    "    return [num for num in range(a, b + 1) if num % 2 != 0]\n",
    "\n",
    "\n",
    "generate_odd_numbers(0, 20)"
   ]
  },
  {
   "cell_type": "code",
   "execution_count": 77,
   "metadata": {},
   "outputs": [
    {
     "name": "stdout",
     "output_type": "stream",
     "text": [
      "[1, 2, 3, 4, 5, 6, 7, 8, 9]\n",
      "[1, 2, 3, 4, 5, 6, 7, 8, 9, 10]\n"
     ]
    }
   ],
   "source": [
    "a = 1\n",
    "b = 10\n",
    "\n",
    "# Without +1 in the range, the upper bound (10) would be excluded\n",
    "sequence_without_plus_one = list(range(a, b))  # Generates [1, 2, 3, 4, 5, 6, 7, 8, 9]\n",
    "\n",
    "# With +1 in the range, the upper bound (10) is included\n",
    "sequence_with_plus_one = list(range(a, b + 1))  # Generates [1, 2, 3, 4, 5, 6, 7, 8, 9, 10]\n",
    "\n",
    "print(sequence_without_plus_one)\n",
    "print(sequence_with_plus_one)"
   ]
  }
 ],
 "metadata": {
  "kernelspec": {
   "display_name": "Python 3",
   "language": "python",
   "name": "python3"
  },
  "language_info": {
   "codemirror_mode": {
    "name": "ipython",
    "version": 3
   },
   "file_extension": ".py",
   "mimetype": "text/x-python",
   "name": "python",
   "nbconvert_exporter": "python",
   "pygments_lexer": "ipython3",
   "version": "3.11.2"
  },
  "orig_nbformat": 4
 },
 "nbformat": 4,
 "nbformat_minor": 2
}
