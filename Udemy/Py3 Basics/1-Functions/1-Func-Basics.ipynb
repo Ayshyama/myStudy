{
 "cells": [
  {
   "cell_type": "code",
   "execution_count": 2,
   "metadata": {},
   "outputs": [
    {
     "name": "stdout",
     "output_type": "stream",
     "text": [
      "HELLO!\n",
      "\n",
      "Help on function print_greeting in module __main__:\n",
      "\n",
      "print_greeting()\n",
      "    Print 'HELLO!' text\n",
      "    :return: None\n",
      "\n"
     ]
    }
   ],
   "source": [
    "def print_greeting():\n",
    "    \"\"\"\n",
    "    Print 'HELLO!' text\n",
    "    :return: None\n",
    "    \"\"\"\n",
    "    print('HELLO!\\n')\n",
    "\n",
    "\n",
    "# call the function\n",
    "print_greeting()\n",
    "\n",
    "# receive the description of the function\n",
    "help(print_greeting)"
   ]
  },
  {
   "cell_type": "code",
   "execution_count": 4,
   "metadata": {},
   "outputs": [
    {
     "name": "stdout",
     "output_type": "stream",
     "text": [
      "Hello JACK!\n",
      "\n",
      "Help on function print_greeting_with_name in module __main__:\n",
      "\n",
      "print_greeting_with_name(name)\n",
      "    :param: name\n",
      "    :return: None\n",
      "\n",
      "Hello JACK!\n",
      "\n",
      "None\n"
     ]
    }
   ],
   "source": [
    "def print_greeting_with_name(name):\n",
    "    \"\"\"\n",
    "    :param: name\n",
    "    :return: None\n",
    "    \"\"\"\n",
    "    print('Hello ' + name + '!\\n')\n",
    "\n",
    "\n",
    "print_greeting_with_name('JACK')\n",
    "help(print_greeting_with_name)\n",
    "\n",
    "x = print_greeting_with_name('JACK')\n",
    "print(x)                                 # returns None"
   ]
  },
  {
   "cell_type": "code",
   "execution_count": 5,
   "metadata": {},
   "outputs": [
    {
     "name": "stdout",
     "output_type": "stream",
     "text": [
      "10\n",
      "Help on function sum_of_two_numbers in module __main__:\n",
      "\n",
      "sum_of_two_numbers(a=0, b=0)\n",
      "    :param a:  The first addend\n",
      "    :param b:  The second addend\n",
      "    :return:   Sum of a and b\n",
      "\n"
     ]
    }
   ],
   "source": [
    "def sum_of_two_numbers(a=0, b=0):\n",
    "    \"\"\"\n",
    "    :param a:  The first addend\n",
    "    :param b:  The second addend\n",
    "    :return:   Sum of a and b\n",
    "    \"\"\"\n",
    "    return a + b\n",
    "\n",
    "\n",
    "s = sum_of_two_numbers(5, 5)\n",
    "print(s)\n",
    "\n",
    "help(sum_of_two_numbers)\n",
    "\n",
    "\n"
   ]
  },
  {
   "cell_type": "code",
   "execution_count": 9,
   "metadata": {},
   "outputs": [
    {
     "name": "stdout",
     "output_type": "stream",
     "text": [
      "True\n"
     ]
    }
   ],
   "source": [
    "def is_hello_in_text(text):\n",
    "    if 'hello' in text.lower():          # .lower() \n",
    "        return True\n",
    "    return False\n",
    "\n",
    "\n",
    "print(is_hello_in_text('Hello everyone'))"
   ]
  },
  {
   "cell_type": "code",
   "execution_count": 10,
   "metadata": {},
   "outputs": [
    {
     "name": "stdout",
     "output_type": "stream",
     "text": [
      "True\n"
     ]
    }
   ],
   "source": [
    "def is_hello_in_text(text):\n",
    "    return 'hello' in text.lower()\n",
    "\n",
    "print(is_hello_in_text('Hello everyone'))"
   ]
  }
 ],
 "metadata": {
  "kernelspec": {
   "display_name": "Python 3",
   "language": "python",
   "name": "python3"
  },
  "language_info": {
   "codemirror_mode": {
    "name": "ipython",
    "version": 3
   },
   "file_extension": ".py",
   "mimetype": "text/x-python",
   "name": "python",
   "nbconvert_exporter": "python",
   "pygments_lexer": "ipython3",
   "version": "3.11.2"
  },
  "orig_nbformat": 4
 },
 "nbformat": 4,
 "nbformat_minor": 2
}
