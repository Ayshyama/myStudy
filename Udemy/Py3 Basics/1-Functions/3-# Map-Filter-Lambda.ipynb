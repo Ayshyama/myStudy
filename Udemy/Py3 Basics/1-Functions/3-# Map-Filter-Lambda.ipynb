{
 "cells": [
  {
   "attachments": {},
   "cell_type": "markdown",
   "metadata": {},
   "source": [
    "# Map, Filter and Lambda Expressions"
   ]
  },
  {
   "cell_type": "code",
   "execution_count": 13,
   "metadata": {},
   "outputs": [
    {
     "name": "stdout",
     "output_type": "stream",
     "text": [
      "<map object at 0x000001AA6A580B80>\n"
     ]
    }
   ],
   "source": [
    "def sum_of_two_numbers(x):\n",
    "    return x + x\n",
    "\n",
    "\n",
    "number_list = [1, 2, 3, 4, 5]\n",
    "\n",
    "result = map(sum_of_two_numbers, number_list)\n",
    "\n",
    "print(result)"
   ]
  },
  {
   "cell_type": "code",
   "execution_count": 14,
   "metadata": {},
   "outputs": [
    {
     "name": "stdout",
     "output_type": "stream",
     "text": [
      "2\n",
      "4\n",
      "6\n",
      "8\n",
      "10\n"
     ]
    }
   ],
   "source": [
    "for item in result:\n",
    "    print(item)"
   ]
  },
  {
   "cell_type": "code",
   "execution_count": 15,
   "metadata": {},
   "outputs": [
    {
     "name": "stdout",
     "output_type": "stream",
     "text": [
      "2\n",
      "4\n",
      "6\n",
      "8\n",
      "10\n"
     ]
    }
   ],
   "source": [
    "for item in map(sum_of_two_numbers, number_list):\n",
    "    print(item)"
   ]
  },
  {
   "cell_type": "code",
   "execution_count": 16,
   "metadata": {},
   "outputs": [
    {
     "name": "stdout",
     "output_type": "stream",
     "text": [
      "[2, 4, 6, 8, 10]\n"
     ]
    }
   ],
   "source": [
    "print(list(map(sum_of_two_numbers, number_list)))"
   ]
  },
  {
   "cell_type": "code",
   "execution_count": 21,
   "metadata": {},
   "outputs": [
    {
     "name": "stdout",
     "output_type": "stream",
     "text": [
      "String has not \"a\"\n",
      "String has \"a\"\n",
      "String has \"a\"\n",
      "String has not \"a\"\n",
      "[False, True, True, False]\n"
     ]
    }
   ],
   "source": [
    "def is_a_in_string(string):\n",
    "    if 'a' in string:\n",
    "        print('String has \"a\"')\n",
    "        return True\n",
    "    else:\n",
    "        print('String has not \"a\"')\n",
    "        return False\n",
    "\n",
    "\n",
    "string_list = ['hi', 'was', 'name', 'he']\n",
    "print(list(map(is_a_in_string, string_list)))"
   ]
  }
 ],
 "metadata": {
  "kernelspec": {
   "display_name": "Python 3",
   "language": "python",
   "name": "python3"
  },
  "language_info": {
   "codemirror_mode": {
    "name": "ipython",
    "version": 3
   },
   "file_extension": ".py",
   "mimetype": "text/x-python",
   "name": "python",
   "nbconvert_exporter": "python",
   "pygments_lexer": "ipython3",
   "version": "3.11.2"
  },
  "orig_nbformat": 4
 },
 "nbformat": 4,
 "nbformat_minor": 2
}
